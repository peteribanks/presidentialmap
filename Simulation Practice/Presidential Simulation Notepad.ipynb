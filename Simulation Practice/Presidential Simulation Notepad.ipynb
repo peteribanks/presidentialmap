{
 "cells": [
  {
   "cell_type": "code",
   "execution_count": 46,
   "metadata": {},
   "outputs": [],
   "source": [
    "import numpy as np\n",
    "import pandas as pd\n",
    "import random \n",
    "import math"
   ]
  },
  {
   "cell_type": "markdown",
   "metadata": {},
   "source": [
    "Testing Numpy arrays"
   ]
  },
  {
   "cell_type": "code",
   "execution_count": 3,
   "metadata": {},
   "outputs": [
    {
     "name": "stdout",
     "output_type": "stream",
     "text": [
      "[[1 4 9]\n",
      " [1 4 9]\n",
      " [1 4 9]]\n"
     ]
    }
   ],
   "source": [
    "A = np.array([[1,2,3], [1,2,3],[1,2,3]])\n",
    "B = np.array([[1,2,3], [1,2,3],[1,2,3]])\n",
    "C = A * B\n",
    "print(C)"
   ]
  },
  {
   "cell_type": "markdown",
   "metadata": {},
   "source": [
    "testing scalars"
   ]
  },
  {
   "cell_type": "code",
   "execution_count": 4,
   "metadata": {},
   "outputs": [
    {
     "name": "stdout",
     "output_type": "stream",
     "text": [
      "[[2 4 6]\n",
      " [2 4 6]\n",
      " [2 4 6]]\n"
     ]
    }
   ],
   "source": [
    "A = np.array([[1,2,3], [1,2,3],[1,2,3]])\n",
    "A = A * 2\n",
    "print(A)"
   ]
  },
  {
   "cell_type": "markdown",
   "metadata": {},
   "source": [
    "Testing weight style system, on alabama"
   ]
  },
  {
   "cell_type": "code",
   "execution_count": 5,
   "metadata": {},
   "outputs": [
    {
     "name": "stdout",
     "output_type": "stream",
     "text": [
      "[ 0.14 -0.16]\n"
     ]
    }
   ],
   "source": [
    "Weight = np.array([.14, -.16]) #(Male, Female), [-.22, -.23, .04, 0.19]\n",
    "Population = np.array([.49, .51]) #(Male, Female), [.13, .22, .41, .23]\n",
    "print(Weight)\n",
    "Outcome = sum(Weight * Population)\n",
    "\n",
    "#print(Outcome)"
   ]
  },
  {
   "cell_type": "markdown",
   "metadata": {},
   "source": [
    "Dictonary Method"
   ]
  },
  {
   "cell_type": "code",
   "execution_count": 6,
   "metadata": {},
   "outputs": [
    {
     "ename": "KeyError",
     "evalue": "'Race'",
     "output_type": "error",
     "traceback": [
      "\u001b[0;31m---------------------------------------------------------------------------\u001b[0m",
      "\u001b[0;31mKeyError\u001b[0m                                  Traceback (most recent call last)",
      "\u001b[0;32m<ipython-input-6-a6c00a95999c>\u001b[0m in \u001b[0;36m<module>\u001b[0;34m\u001b[0m\n\u001b[1;32m      2\u001b[0m \u001b[0mWeight\u001b[0m\u001b[0;34m[\u001b[0m\u001b[0;34m'Age'\u001b[0m\u001b[0;34m]\u001b[0m \u001b[0;34m=\u001b[0m \u001b[0;34m[\u001b[0m\u001b[0;34m-\u001b[0m\u001b[0;36m.22\u001b[0m\u001b[0;34m,\u001b[0m \u001b[0;34m-\u001b[0m\u001b[0;36m.23\u001b[0m\u001b[0;34m,\u001b[0m \u001b[0;36m.04\u001b[0m\u001b[0;34m,\u001b[0m \u001b[0;36m0.19\u001b[0m\u001b[0;34m]\u001b[0m\u001b[0;34m\u001b[0m\u001b[0;34m\u001b[0m\u001b[0m\n\u001b[1;32m      3\u001b[0m \u001b[0mWeight\u001b[0m\u001b[0;34m[\u001b[0m\u001b[0;34m'Gender'\u001b[0m\u001b[0;34m]\u001b[0m \u001b[0;34m=\u001b[0m \u001b[0;34m[\u001b[0m\u001b[0;36m.49\u001b[0m\u001b[0;34m,\u001b[0m \u001b[0;36m.51\u001b[0m\u001b[0;34m]\u001b[0m\u001b[0;34m\u001b[0m\u001b[0;34m\u001b[0m\u001b[0m\n\u001b[0;32m----> 4\u001b[0;31m \u001b[0mWeight\u001b[0m\u001b[0;34m[\u001b[0m\u001b[0;34m'Race'\u001b[0m\u001b[0;34m]\u001b[0m\u001b[0;34m\u001b[0m\u001b[0;34m\u001b[0m\u001b[0m\n\u001b[0m\u001b[1;32m      5\u001b[0m \u001b[0;34m\u001b[0m\u001b[0m\n\u001b[1;32m      6\u001b[0m \u001b[0mPop\u001b[0m \u001b[0;34m=\u001b[0m \u001b[0;34m{\u001b[0m\u001b[0;34m}\u001b[0m\u001b[0;34m\u001b[0m\u001b[0;34m\u001b[0m\u001b[0m\n",
      "\u001b[0;31mKeyError\u001b[0m: 'Race'"
     ]
    }
   ],
   "source": [
    "Weight = {} \n",
    "Weight['Age'] = [-.22, -.23, .04, 0.19]\n",
    "Weight['Gender'] = [.49, .51]\n",
    "Weight['Race']\n",
    "\n",
    "Pop = {}\n",
    "Pop['Age'] = [.13, .22, .41, .23]\n",
    "Pop['Gender'] = [.49, .51]\n",
    "\n",
    "\n",
    "Outcome = 0\n",
    "\n",
    "for key in Weight.keys():\n",
    "    \n",
    "    for i in range(len(Weight[key])):\n",
    "        Outcome += Pop[key][i] * Weight[key][i]\n",
    "        \n",
    "print(Outcome)\n",
    "    "
   ]
  },
  {
   "cell_type": "markdown",
   "metadata": {},
   "source": [
    "numpy"
   ]
  },
  {
   "cell_type": "code",
   "execution_count": 7,
   "metadata": {},
   "outputs": [
    {
     "name": "stdout",
     "output_type": "stream",
     "text": [
      "0.48109999999999997\n"
     ]
    }
   ],
   "source": [
    "Weight = {} \n",
    "Weight['Age'] = np.array([-.22, -.23, .04, 0.19])\n",
    "Weight['Gender'] = np.array([.49, .51])\n",
    "\n",
    "Pop = {}\n",
    "Pop['Age'] = np.array([.13, .22, .41, .23])\n",
    "Pop['Gender'] = np.array([.49, .51])\n",
    "\n",
    "\n",
    "Outcome = 0\n",
    "\n",
    "for key in Weight.keys():\n",
    "    Outcome += sum(Pop[key] * Weight[key])\n",
    "        \n",
    "print(Outcome)"
   ]
  },
  {
   "cell_type": "markdown",
   "metadata": {},
   "source": [
    "trying to read in some data"
   ]
  },
  {
   "cell_type": "code",
   "execution_count": 8,
   "metadata": {},
   "outputs": [],
   "source": [
    "file = open('exit_polls_data_cnn_04022017.csv', 'r')\n"
   ]
  },
  {
   "cell_type": "markdown",
   "metadata": {},
   "source": [
    "pandas attempt"
   ]
  },
  {
   "cell_type": "code",
   "execution_count": 9,
   "metadata": {},
   "outputs": [
    {
     "name": "stdout",
     "output_type": "stream",
     "text": [
      "      questions_id                                          questions  \\\n",
      "0                1                                             Gender   \n",
      "1                1                                             Gender   \n",
      "2                2                                                Age   \n",
      "3                2                                                Age   \n",
      "4                2                                                Age   \n",
      "5                2                                                Age   \n",
      "6                3                                                Age   \n",
      "7                3                                                Age   \n",
      "8                3                                                Age   \n",
      "9                3                                                Age   \n",
      "10               3                                                Age   \n",
      "11               3                                                Age   \n",
      "12               4                                                Age   \n",
      "13               4                                                Age   \n",
      "14               5                                               Race   \n",
      "15               5                                               Race   \n",
      "16               5                                               Race   \n",
      "17               5                                               Race   \n",
      "18               5                                               Race   \n",
      "19               6                                               Race   \n",
      "20               6                                               Race   \n",
      "21               7                                    Race and gender   \n",
      "22               7                                    Race and gender   \n",
      "23               7                                    Race and gender   \n",
      "24               7                                    Race and gender   \n",
      "25               7                                    Race and gender   \n",
      "26               7                                    Race and gender   \n",
      "27               7                                    Race and gender   \n",
      "28               8                                        Age by race   \n",
      "29               8                                        Age by race   \n",
      "...            ...                                                ...   \n",
      "5449            59               Who would better handle the economy?   \n",
      "5450            59               Who would better handle the economy?   \n",
      "5451            60            Who would better handle foreign policy?   \n",
      "5452            60            Who would better handle foreign policy?   \n",
      "5453            61                      Condition of national economy   \n",
      "5454            61                      Condition of national economy   \n",
      "5455            61                      Condition of national economy   \n",
      "5456            61                      Condition of national economy   \n",
      "5457            62                      Condition of national economy   \n",
      "5458            62                      Condition of national economy   \n",
      "5459            63    Financial situation compared to four years ago:   \n",
      "5460            63    Financial situation compared to four years ago:   \n",
      "5461            63    Financial situation compared to four years ago:   \n",
      "5462            64       Local job market compared to four years ago:   \n",
      "5463            64       Local job market compared to four years ago:   \n",
      "5464            64       Local job market compared to four years ago:   \n",
      "5465            65  Life for the next generation of Americans will...   \n",
      "5466            65  Life for the next generation of Americans will...   \n",
      "5467            65  Life for the next generation of Americans will...   \n",
      "5468            66               Vote for president in a two-way race   \n",
      "5469            66               Vote for president in a two-way race   \n",
      "5470            66               Vote for president in a two-way race   \n",
      "5471            67                                          Area type   \n",
      "5472            67                                          Area type   \n",
      "5473            67                                          Area type   \n",
      "5474            68                                             Region   \n",
      "5475            68                                             Region   \n",
      "5476            68                                             Region   \n",
      "5477            68                                             Region   \n",
      "5478            68                                             Region   \n",
      "\n",
      "      num_respondents            options  Clinton_perc  Trump_perc  \\\n",
      "0               24558               Male          41.0        52.0   \n",
      "1               24558             Female          54.0        41.0   \n",
      "2               24558              18-29          55.0        36.0   \n",
      "3               24558              30-44          51.0        41.0   \n",
      "4               24558              45-64          44.0        52.0   \n",
      "5               24558       65 and older          45.0        52.0   \n",
      "6               24558              18-24          56.0        34.0   \n",
      "7               24558              25-29          54.0        38.0   \n",
      "8               24558              30-39          51.0        39.0   \n",
      "9               24558              40-49          46.0        49.0   \n",
      "10              24558              50-64          44.0        52.0   \n",
      "11              24558       65 and older          45.0        52.0   \n",
      "12              24558              18-44          53.0        39.0   \n",
      "13              24558       45 and older          44.0        52.0   \n",
      "14              24558              White          37.0        57.0   \n",
      "15              24558              Black          89.0         8.0   \n",
      "16              24558             Latino          66.0        28.0   \n",
      "17              24558              Asian          65.0        27.0   \n",
      "18              24558         Other race          56.0        36.0   \n",
      "19              24558              White          37.0        57.0   \n",
      "20              24558          Non-white          74.0        21.0   \n",
      "21              24558          White men          31.0        62.0   \n",
      "22              24558        White women          43.0        52.0   \n",
      "23              24558          Black men          82.0        13.0   \n",
      "24              24558        Black women          94.0         4.0   \n",
      "25              24558         Latino men          63.0        32.0   \n",
      "26              24558       Latino women          69.0        25.0   \n",
      "27              24558             Others          61.0        31.0   \n",
      "28              24558       Whites 18-29          43.0        47.0   \n",
      "29              24558      Latinos 30-44          65.0        28.0   \n",
      "...               ...                ...           ...         ...   \n",
      "5449             3047            Clinton          91.0         3.0   \n",
      "5450             3047              Trump           6.0        89.0   \n",
      "5451             3047            Clinton          81.0        12.0   \n",
      "5452             3047              Trump           4.0        94.0   \n",
      "5453             3047          Excellent           NaN         NaN   \n",
      "5454             3047               Good          77.0        21.0   \n",
      "5455             3047           Not good          32.0        63.0   \n",
      "5456             3047               Poor          16.0        78.0   \n",
      "5457             3047               Good          78.0        20.0   \n",
      "5458             3047               Poor          27.0        68.0   \n",
      "5459             3047       Better today          63.0        31.0   \n",
      "5460             3047        Worse today          23.0        72.0   \n",
      "5461             3047     About the same          44.0        49.0   \n",
      "5462             3047       Better today          71.0        22.0   \n",
      "5463             3047        Worse today          15.0        81.0   \n",
      "5464             3047     About the same          41.0        52.0   \n",
      "5465             3047  Better than today          69.0        29.0   \n",
      "5466             3047   Worse than today          26.0        67.0   \n",
      "5467             3047     About the same          55.0        37.0   \n",
      "5468             3047            Clinton          97.0         1.0   \n",
      "5469             3047              Trump           1.0        97.0   \n",
      "5470             3047     Would not vote           NaN         NaN   \n",
      "5471             3047         Urban area          61.0        34.0   \n",
      "5472             3047      Suburban area          39.0        55.0   \n",
      "5473             3047         Rural area          35.0        62.0   \n",
      "5474             3047   Milwaukee County          67.0        27.0   \n",
      "5475             3047          Southeast          35.0        60.0   \n",
      "5476             3047          Southwest          64.0        30.0   \n",
      "5477             3047          Northeast          39.0        56.0   \n",
      "5478             3047          Northwest          39.0        56.0   \n",
      "\n",
      "      Others_Unknown_perc  options_perc      state  \\\n",
      "0                     7.0          47.0     nation   \n",
      "1                     5.0          53.0     nation   \n",
      "2                     9.0          19.0     nation   \n",
      "3                     8.0          25.0     nation   \n",
      "4                     4.0          40.0     nation   \n",
      "5                     3.0          16.0     nation   \n",
      "6                    10.0          10.0     nation   \n",
      "7                     8.0           9.0     nation   \n",
      "8                    10.0          17.0     nation   \n",
      "9                     5.0          19.0     nation   \n",
      "10                    4.0          30.0     nation   \n",
      "11                    3.0          16.0     nation   \n",
      "12                    8.0          44.0     nation   \n",
      "13                    4.0          56.0     nation   \n",
      "14                    6.0          71.0     nation   \n",
      "15                    3.0          12.0     nation   \n",
      "16                    6.0          11.0     nation   \n",
      "17                    8.0           4.0     nation   \n",
      "18                    8.0           3.0     nation   \n",
      "19                    6.0          71.0     nation   \n",
      "20                    5.0          29.0     nation   \n",
      "21                    7.0          34.0     nation   \n",
      "22                    5.0          37.0     nation   \n",
      "23                    5.0           5.0     nation   \n",
      "24                    2.0           7.0     nation   \n",
      "25                    5.0           5.0     nation   \n",
      "26                    6.0           6.0     nation   \n",
      "27                    8.0           6.0     nation   \n",
      "28                   10.0          12.0     nation   \n",
      "29                    7.0           4.0     nation   \n",
      "...                   ...           ...        ...   \n",
      "5449                  6.0          43.0  Wisconsin   \n",
      "5450                  5.0          54.0  Wisconsin   \n",
      "5451                  7.0          52.0  Wisconsin   \n",
      "5452                  2.0          45.0  Wisconsin   \n",
      "5453                  NaN           3.0  Wisconsin   \n",
      "5454                  2.0          36.0  Wisconsin   \n",
      "5455                  5.0          41.0  Wisconsin   \n",
      "5456                  6.0          20.0  Wisconsin   \n",
      "5457                  2.0          38.0  Wisconsin   \n",
      "5458                  5.0          61.0  Wisconsin   \n",
      "5459                  6.0          27.0  Wisconsin   \n",
      "5460                  5.0          28.0  Wisconsin   \n",
      "5461                  7.0          44.0  Wisconsin   \n",
      "5462                  7.0          32.0  Wisconsin   \n",
      "5463                  4.0          28.0  Wisconsin   \n",
      "5464                  7.0          39.0  Wisconsin   \n",
      "5465                  2.0          27.0  Wisconsin   \n",
      "5466                  7.0          42.0  Wisconsin   \n",
      "5467                  8.0          27.0  Wisconsin   \n",
      "5468                  2.0          48.0  Wisconsin   \n",
      "5469                  2.0          48.0  Wisconsin   \n",
      "5470                  NaN           4.0  Wisconsin   \n",
      "5471                  5.0          39.0  Wisconsin   \n",
      "5472                  6.0          34.0  Wisconsin   \n",
      "5473                  3.0          27.0  Wisconsin   \n",
      "5474                  6.0          15.0  Wisconsin   \n",
      "5475                  5.0          27.0  Wisconsin   \n",
      "5476                  6.0          18.0  Wisconsin   \n",
      "5477                  5.0          18.0  Wisconsin   \n",
      "5478                  5.0          23.0  Wisconsin   \n",
      "\n",
      "                                                    url  \n",
      "0     http://www.cnn.com/election/results/exit-polls...  \n",
      "1     http://www.cnn.com/election/results/exit-polls...  \n",
      "2     http://www.cnn.com/election/results/exit-polls...  \n",
      "3     http://www.cnn.com/election/results/exit-polls...  \n",
      "4     http://www.cnn.com/election/results/exit-polls...  \n",
      "5     http://www.cnn.com/election/results/exit-polls...  \n",
      "6     http://www.cnn.com/election/results/exit-polls...  \n",
      "7     http://www.cnn.com/election/results/exit-polls...  \n",
      "8     http://www.cnn.com/election/results/exit-polls...  \n",
      "9     http://www.cnn.com/election/results/exit-polls...  \n",
      "10    http://www.cnn.com/election/results/exit-polls...  \n",
      "11    http://www.cnn.com/election/results/exit-polls...  \n",
      "12    http://www.cnn.com/election/results/exit-polls...  \n",
      "13    http://www.cnn.com/election/results/exit-polls...  \n",
      "14    http://www.cnn.com/election/results/exit-polls...  \n",
      "15    http://www.cnn.com/election/results/exit-polls...  \n",
      "16    http://www.cnn.com/election/results/exit-polls...  \n",
      "17    http://www.cnn.com/election/results/exit-polls...  \n",
      "18    http://www.cnn.com/election/results/exit-polls...  \n",
      "19    http://www.cnn.com/election/results/exit-polls...  \n",
      "20    http://www.cnn.com/election/results/exit-polls...  \n",
      "21    http://www.cnn.com/election/results/exit-polls...  \n",
      "22    http://www.cnn.com/election/results/exit-polls...  \n",
      "23    http://www.cnn.com/election/results/exit-polls...  \n",
      "24    http://www.cnn.com/election/results/exit-polls...  \n",
      "25    http://www.cnn.com/election/results/exit-polls...  \n",
      "26    http://www.cnn.com/election/results/exit-polls...  \n",
      "27    http://www.cnn.com/election/results/exit-polls...  \n",
      "28    http://www.cnn.com/election/results/exit-polls...  \n",
      "29    http://www.cnn.com/election/results/exit-polls...  \n",
      "...                                                 ...  \n",
      "5449  http://www.cnn.com/election/results/exit-polls...  \n",
      "5450  http://www.cnn.com/election/results/exit-polls...  \n",
      "5451  http://www.cnn.com/election/results/exit-polls...  \n",
      "5452  http://www.cnn.com/election/results/exit-polls...  \n",
      "5453  http://www.cnn.com/election/results/exit-polls...  \n",
      "5454  http://www.cnn.com/election/results/exit-polls...  \n",
      "5455  http://www.cnn.com/election/results/exit-polls...  \n",
      "5456  http://www.cnn.com/election/results/exit-polls...  \n",
      "5457  http://www.cnn.com/election/results/exit-polls...  \n",
      "5458  http://www.cnn.com/election/results/exit-polls...  \n",
      "5459  http://www.cnn.com/election/results/exit-polls...  \n",
      "5460  http://www.cnn.com/election/results/exit-polls...  \n",
      "5461  http://www.cnn.com/election/results/exit-polls...  \n",
      "5462  http://www.cnn.com/election/results/exit-polls...  \n",
      "5463  http://www.cnn.com/election/results/exit-polls...  \n",
      "5464  http://www.cnn.com/election/results/exit-polls...  \n",
      "5465  http://www.cnn.com/election/results/exit-polls...  \n",
      "5466  http://www.cnn.com/election/results/exit-polls...  \n",
      "5467  http://www.cnn.com/election/results/exit-polls...  \n",
      "5468  http://www.cnn.com/election/results/exit-polls...  \n",
      "5469  http://www.cnn.com/election/results/exit-polls...  \n",
      "5470  http://www.cnn.com/election/results/exit-polls...  \n",
      "5471  http://www.cnn.com/election/results/exit-polls...  \n",
      "5472  http://www.cnn.com/election/results/exit-polls...  \n",
      "5473  http://www.cnn.com/election/results/exit-polls...  \n",
      "5474  http://www.cnn.com/election/results/exit-polls...  \n",
      "5475  http://www.cnn.com/election/results/exit-polls...  \n",
      "5476  http://www.cnn.com/election/results/exit-polls...  \n",
      "5477  http://www.cnn.com/election/results/exit-polls...  \n",
      "5478  http://www.cnn.com/election/results/exit-polls...  \n",
      "\n",
      "[5479 rows x 10 columns]\n"
     ]
    }
   ],
   "source": [
    "df = pd.read_csv('exit_polls_data_cnn_04022017.csv')\n",
    "print(df)"
   ]
  },
  {
   "cell_type": "code",
   "execution_count": 10,
   "metadata": {},
   "outputs": [
    {
     "name": "stdout",
     "output_type": "stream",
     "text": [
      "   questions_id questions  num_respondents options  Clinton_perc  Trump_perc  \\\n",
      "0             1    Gender            24558    Male          41.0        52.0   \n",
      "1             1    Gender            24558  Female          54.0        41.0   \n",
      "\n",
      "   Others_Unknown_perc  options_perc   state  \\\n",
      "0                  7.0          47.0  nation   \n",
      "1                  5.0          53.0  nation   \n",
      "\n",
      "                                                 url  \n",
      "0  http://www.cnn.com/election/results/exit-polls...  \n",
      "1  http://www.cnn.com/election/results/exit-polls...  \n"
     ]
    }
   ],
   "source": [
    "print(df.loc[(df['questions'] == 'Gender') & (df['state'] == 'nation')])"
   ]
  },
  {
   "cell_type": "markdown",
   "metadata": {},
   "source": [
    "Converting pandas to dictonary of weights"
   ]
  },
  {
   "cell_type": "code",
   "execution_count": 11,
   "metadata": {},
   "outputs": [
    {
     "name": "stdout",
     "output_type": "stream",
     "text": [
      "[0.19 0.25 0.4  0.16 0.1  0.09 0.17 0.19 0.3  0.16 0.44 0.56]\n",
      "[-0.19 -0.1   0.08  0.07 -0.22 -0.16 -0.12  0.03  0.08  0.07 -0.14  0.08]\n",
      "nan\n"
     ]
    }
   ],
   "source": [
    "pop = {}\n",
    "weight = {}\n",
    "questions = ['Gender', 'Age', 'Race', 'Education', 'Income', 'Party ID', 'Ideology', 'Marital status', 'Religion', 'How often do you attend religious services?', 'Union household?']\n",
    "for i in questions:\n",
    "    pop[i] = np.array(df.loc[(df['state'] == 'nation') & (df['questions'] == i)]['options_perc']/100)\n",
    "    weight[i] = np.array((df.loc[(df['state'] == 'nation') & (df['questions'] == i)]['Trump_perc']) - (df.loc[(df['state'] == 'nation') & (df['questions'] == i)]['Clinton_perc']))/100\n",
    "print(pop['Age'])\n",
    "print(weight['Age'])\n",
    "\n",
    " \n",
    "\n",
    "for key in weight.keys():\n",
    "    Outcome += sum(pop[key] * weight[key])\n",
    "print(Outcome)"
   ]
  },
  {
   "cell_type": "code",
   "execution_count": null,
   "metadata": {},
   "outputs": [],
   "source": []
  },
  {
   "cell_type": "code",
   "execution_count": 12,
   "metadata": {},
   "outputs": [],
   "source": [
    "pop_virginia = {}\n",
    "for i in questions:\n",
    "    pop_virginia[i] = np.array(df.loc[(df['state'] == 'Arizona') & (df['questions'] == i)]['options_perc']/100)\n"
   ]
  },
  {
   "cell_type": "markdown",
   "metadata": {},
   "source": [
    "data cleaning function "
   ]
  },
  {
   "cell_type": "code",
   "execution_count": 27,
   "metadata": {},
   "outputs": [
    {
     "name": "stdout",
     "output_type": "stream",
     "text": [
      "-0.017200000000000007\n",
      "-0.0179\n",
      "-0.35560000000000014\n"
     ]
    }
   ],
   "source": [
    "def pop_weight(df, questions=['Gender', 'Age', 'Race', 'Education', 'Income', 'Party ID', 'Ideology', 'Marital status', 'Religion', 'How often do you attend religious services?', 'Union household?']): \n",
    "    pop = {}\n",
    "    df = df.fillna(0)\n",
    "    Outcome = 0\n",
    "    for i in questions:\n",
    "        pop[i] = np.array(df.loc[(df['state'] == 'nation') & (df['questions'] == i)]['options_perc']/100)\n",
    "        weight[i] = np.array((df.loc[(df['state'] == 'nation') & (df['questions'] == i)]['Trump_perc']) - (df.loc[(df['state'] == 'nation') & (df['questions'] == i)]['Clinton_perc']))/100\n",
    "    \n",
    "    print(sum(pop['Gender'] *  weight['Gender']))\n",
    "    print(sum(weight['Age'][0:4] * pop['Age'][0:4]))\n",
    "    \n",
    "    for key in weight.keys():\n",
    "        Outcome += sum(pop[key] * weight[key])\n",
    "    print(Outcome)\n",
    "\n",
    "    \n",
    "(pop_weight(df))"
   ]
  },
  {
   "cell_type": "markdown",
   "metadata": {},
   "source": [
    "promblem is that they all have like a 1.7% prefrence which just adds up over time. Going to try with just race"
   ]
  },
  {
   "cell_type": "code",
   "execution_count": 43,
   "metadata": {},
   "outputs": [
    {
     "name": "stdout",
     "output_type": "stream",
     "text": [
      "[ 0.23  0.04  0.28  0.11 -0.48  0.   -0.26 -0.42  0.17  0.04 -0.48 -0.33\n",
      " -0.42]\n"
     ]
    }
   ],
   "source": [
    "df = df.fillna(0)\n",
    "pop_virginia = np.array(df.loc[(df['state'] == 'Virginia') & (df['questions'] == 'Religion')]['options_perc']/100)\n",
    "weight = np.array((df.loc[(df['state'] == 'nation') & (df['questions'] == 'Religion')]['Trump_perc']) - (df.loc[(df['state'] == 'nation') & (df['questions'] == 'Religion')]['Clinton_perc']))/100\n",
    "\n",
    "print(weight)\n"
   ]
  },
  {
   "cell_type": "markdown",
   "metadata": {},
   "source": [
    "Idea: <br> \n",
    "\n",
    "Utah <br> \n",
    "\n",
    "<pre>\n",
    "<b>Population Weights</b><br>\n",
    "Race: (0.861, .02, ...) <br>\n",
    "Ethnicity: (0.78, 0.22) #Hispanic <br>\n",
    "Religion: (0.62, 0.12, ...) <br> \n",
    "Religious Attendence: (0.12, 0.22, 0.3, ...) <br> \n",
    "Gender: (0.56, 0.44) <br>\n",
    "LGBT+: (0.96, 0.04) <br>\n",
    "Education: (0.08, 0.12, 0.38, ...) <br>\n",
    "Income: (0.36, 0.12, 0.42, ...) <br> \n",
    "    \n",
    "    \n",
    "<b>Voting Weights</b><br>\n",
    "Race: (0.2, -.02, ...) <br>\n",
    "Ethnicity: (0.13, -0.22) #Hispanic <br>\n",
    "Religion: (0.56, -0.12, ...) <br> \n",
    "ect..\n",
    "</pre>\n",
    "\n",
    "\n",
    "1000 Agents per state\n",
    "\n",
    "86.1% are white, with 62% being mormon ect..."
   ]
  },
  {
   "cell_type": "code",
   "execution_count": null,
   "metadata": {},
   "outputs": [],
   "source": [
    "'''\n",
    "class Voter: \n",
    "    \n",
    "    def __init__(self):\n",
    "        pass\n",
    "    \n",
    "    def vote(self): \n",
    "        return race + religion + religosity + gender + queer + education + income + random_walk\n",
    "        \n",
    "class State: \n",
    "    \n",
    "    def __init__(self):\n",
    "        pass\n",
    "        \n",
    "    def demographics(self): \n",
    "        demographics = [voter1, voter2, ...]\n",
    "    \n",
    "    def vote(self): \n",
    "        return         \n",
    "'''       "
   ]
  },
  {
   "cell_type": "markdown",
   "metadata": {},
   "source": [
    "Voter Class"
   ]
  },
  {
   "cell_type": "code",
   "execution_count": 52,
   "metadata": {},
   "outputs": [],
   "source": [
    "class Voter: \n",
    "    \n",
    "    def __init__(self, into, walk=0.05):\n",
    "        \n",
    "        self.race = into['race']\n",
    "        self.religion = into['religion']\n",
    "        self.religosity = into['religosity']\n",
    "        self.gender = into['gender']\n",
    "        self.queer = into['queer']\n",
    "        self.education = into['education']\n",
    "        self.income = into['income']\n",
    "        self.random_walk = walk\n",
    "    \n",
    "    def vote(self): \n",
    "        '''\n",
    "        race = (race[0] * race[1])\n",
    "        religion = (religion[0] * religion[1])\n",
    "        religosity = (religosity[0] * religosity[1])\n",
    "        gender = (gender[0] * gender[1])\n",
    "        queer = (queer[0] * queer[1])\n",
    "        education = (education[0] * education[1])\n",
    "        income = (income[0] * income[1]) \n",
    "        '''\n",
    "        random_walk = random.randrange(walk*-1, walk, walk/5)\n",
    "        \n",
    "        return  np.sign(race + religion + religosity + gender + queer + education + income + random_walk)\n",
    "\n"
   ]
  },
  {
   "cell_type": "markdown",
   "metadata": {},
   "source": [
    "State Class"
   ]
  },
  {
   "cell_type": "code",
   "execution_count": 54,
   "metadata": {},
   "outputs": [],
   "source": [
    "class State: \n",
    "    def __init__(self, demograpics, weights):\n",
    "        self.demograpics = demograpics\n",
    "        self.voters = {}\n",
    "        self.weights = weights\n",
    "        \n",
    "    def demographics(self): \n",
    "        for i in range(1000):\n",
    "            \n",
    "            into = {\n",
    "                'race':[], \n",
    "                'religion':[], \n",
    "                'religosity':[], \n",
    "                'gender':[], \n",
    "                'queer':[], \n",
    "                'education':[], \n",
    "                'income':[],\n",
    "            } \n",
    "            \n",
    "            for char in self.demograpics.keys(): \n",
    "                for i in range(int(char * 1000)):\n",
    "                    into[str(char)].append(self.weights[])\n",
    "            for race, religion, religosity, gender, queer, education, income \\\n",
    "            in self.demograpics['race'], self.demograpics['religion'], self.demograpics['religosity'], \\\n",
    "            self.demograpics['gender'],self.demograpics['queer'], self.demograpics['education'], \\\n",
    "            self.demograpics['income']:\n",
    "                \n",
    "                self.voters[i] = \n",
    "                \n",
    "    \n",
    "    def vote(self): \n",
    "        return   "
   ]
  },
  {
   "cell_type": "code",
   "execution_count": 55,
   "metadata": {},
   "outputs": [
    {
     "name": "stdout",
     "output_type": "stream",
     "text": [
      "860.0\n"
     ]
    }
   ],
   "source": [
    "print(0.86 * 1000)"
   ]
  },
  {
   "cell_type": "code",
   "execution_count": null,
   "metadata": {},
   "outputs": [],
   "source": []
  }
 ],
 "metadata": {
  "kernelspec": {
   "display_name": "Python 3",
   "language": "python",
   "name": "python3"
  },
  "language_info": {
   "codemirror_mode": {
    "name": "ipython",
    "version": 3
   },
   "file_extension": ".py",
   "mimetype": "text/x-python",
   "name": "python",
   "nbconvert_exporter": "python",
   "pygments_lexer": "ipython3",
   "version": "3.7.1"
  }
 },
 "nbformat": 4,
 "nbformat_minor": 2
}
