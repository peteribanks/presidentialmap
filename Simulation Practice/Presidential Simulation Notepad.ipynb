{
 "cells": [
  {
   "cell_type": "code",
   "execution_count": null,
   "metadata": {},
   "outputs": [],
   "source": [
    "import numpy as np\n",
    "import pandas as pd\n",
    "import random \n",
    "import math"
   ]
  },
  {
   "cell_type": "markdown",
   "metadata": {},
   "source": [
    "Testing Numpy arrays"
   ]
  },
  {
   "cell_type": "code",
   "execution_count": null,
   "metadata": {},
   "outputs": [],
   "source": [
    "A = np.array([[1,2,3], [1,2,3],[1,2,3]])\n",
    "B = np.array([[1,2,3], [1,2,3],[1,2,3]])\n",
    "C = A * B\n",
    "print(C)"
   ]
  },
  {
   "cell_type": "markdown",
   "metadata": {},
   "source": [
    "testing scalars"
   ]
  },
  {
   "cell_type": "code",
   "execution_count": null,
   "metadata": {},
   "outputs": [],
   "source": [
    "A = np.array([[1,2,3], [1,2,3],[1,2,3]])\n",
    "A = A * 2\n",
    "print(A)"
   ]
  },
  {
   "cell_type": "markdown",
   "metadata": {},
   "source": [
    "Testing weight style system, on alabama"
   ]
  },
  {
   "cell_type": "code",
   "execution_count": null,
   "metadata": {},
   "outputs": [],
   "source": [
    "Weight = np.array([.14, -.16]) #(Male, Female), [-.22, -.23, .04, 0.19]\n",
    "Population = np.array([.49, .51]) #(Male, Female), [.13, .22, .41, .23]\n",
    "print(Weight)\n",
    "Outcome = sum(Weight * Population)\n",
    "\n",
    "#print(Outcome)"
   ]
  },
  {
   "cell_type": "markdown",
   "metadata": {},
   "source": [
    "Dictonary Method"
   ]
  },
  {
   "cell_type": "code",
   "execution_count": null,
   "metadata": {},
   "outputs": [],
   "source": [
    "Weight = {} \n",
    "Weight['Age'] = [-.22, -.23, .04, 0.19]\n",
    "Weight['Gender'] = [.49, .51]\n",
    "Weight['Race']\n",
    "\n",
    "Pop = {}\n",
    "Pop['Age'] = [.13, .22, .41, .23]\n",
    "Pop['Gender'] = [.49, .51]\n",
    "\n",
    "\n",
    "Outcome = 0\n",
    "\n",
    "for key in Weight.keys():\n",
    "    \n",
    "    for i in range(len(Weight[key])):\n",
    "        Outcome += Pop[key][i] * Weight[key][i]\n",
    "        \n",
    "print(Outcome)\n",
    "    "
   ]
  },
  {
   "cell_type": "markdown",
   "metadata": {},
   "source": [
    "numpy"
   ]
  },
  {
   "cell_type": "code",
   "execution_count": null,
   "metadata": {},
   "outputs": [],
   "source": [
    "Weight = {} \n",
    "Weight['Age'] = np.array([-.22, -.23, .04, 0.19])\n",
    "Weight['Gender'] = np.array([.49, .51])\n",
    "\n",
    "Pop = {}\n",
    "Pop['Age'] = np.array([.13, .22, .41, .23])\n",
    "Pop['Gender'] = np.array([.49, .51])\n",
    "\n",
    "\n",
    "Outcome = 0\n",
    "\n",
    "for key in Weight.keys():\n",
    "    Outcome += sum(Pop[key] * Weight[key])\n",
    "        \n",
    "print(Outcome)"
   ]
  },
  {
   "cell_type": "markdown",
   "metadata": {},
   "source": [
    "trying to read in some data"
   ]
  },
  {
   "cell_type": "code",
   "execution_count": null,
   "metadata": {},
   "outputs": [],
   "source": [
    "file = open('exit_polls_data_cnn_04022017.csv', 'r')\n"
   ]
  },
  {
   "cell_type": "markdown",
   "metadata": {},
   "source": [
    "pandas attempt"
   ]
  },
  {
   "cell_type": "code",
   "execution_count": null,
   "metadata": {},
   "outputs": [],
   "source": [
    "df = pd.read_csv('exit_polls_data_cnn_04022017.csv')\n",
    "print(df)"
   ]
  },
  {
   "cell_type": "code",
   "execution_count": null,
   "metadata": {},
   "outputs": [],
   "source": [
    "print(df.loc[(df['questions'] == 'Gender') & (df['state'] == 'nation')])"
   ]
  },
  {
   "cell_type": "markdown",
   "metadata": {},
   "source": [
    "Converting pandas to dictonary of weights"
   ]
  },
  {
   "cell_type": "code",
   "execution_count": null,
   "metadata": {},
   "outputs": [],
   "source": [
    "pop = {}\n",
    "weight = {}\n",
    "questions = ['Gender', 'Age', 'Race', 'Education', 'Income', 'Party ID', 'Ideology', 'Marital status', 'Religion', 'How often do you attend religious services?', 'Union household?']\n",
    "for i in questions:\n",
    "    pop[i] = np.array(df.loc[(df['state'] == 'nation') & (df['questions'] == i)]['options_perc']/100)\n",
    "    weight[i] = np.array((df.loc[(df['state'] == 'nation') & (df['questions'] == i)]['Trump_perc']) - (df.loc[(df['state'] == 'nation') & (df['questions'] == i)]['Clinton_perc']))/100\n",
    "print(pop['Age'])\n",
    "print(weight['Age'])\n",
    "\n",
    " \n",
    "\n",
    "for key in weight.keys():\n",
    "    Outcome += sum(pop[key] * weight[key])\n",
    "print(Outcome)"
   ]
  },
  {
   "cell_type": "code",
   "execution_count": null,
   "metadata": {},
   "outputs": [],
   "source": []
  },
  {
   "cell_type": "code",
   "execution_count": null,
   "metadata": {},
   "outputs": [],
   "source": [
    "pop_virginia = {}\n",
    "for i in questions:\n",
    "    pop_virginia[i] = np.array(df.loc[(df['state'] == 'Arizona') & (df['questions'] == i)]['options_perc']/100)\n"
   ]
  },
  {
   "cell_type": "markdown",
   "metadata": {},
   "source": [
    "data cleaning function "
   ]
  },
  {
   "cell_type": "code",
   "execution_count": null,
   "metadata": {},
   "outputs": [],
   "source": [
    "def pop_weight(df, questions=['Gender', 'Age', 'Race', 'Education', 'Income', 'Party ID', 'Ideology', 'Marital status', 'Religion', 'How often do you attend religious services?', 'Union household?']): \n",
    "    pop = {}\n",
    "    df = df.fillna(0)\n",
    "    Outcome = 0\n",
    "    for i in questions:\n",
    "        pop[i] = np.array(df.loc[(df['state'] == 'nation') & (df['questions'] == i)]['options_perc']/100)\n",
    "        weight[i] = np.array((df.loc[(df['state'] == 'nation') & (df['questions'] == i)]['Trump_perc']) - (df.loc[(df['state'] == 'nation') & (df['questions'] == i)]['Clinton_perc']))/100\n",
    "    \n",
    "    print(sum(pop['Gender'] *  weight['Gender']))\n",
    "    print(sum(weight['Age'][0:4] * pop['Age'][0:4]))\n",
    "    \n",
    "    for key in weight.keys():\n",
    "        Outcome += sum(pop[key] * weight[key])\n",
    "    print(Outcome)\n",
    "\n",
    "    \n",
    "(pop_weight(df))"
   ]
  },
  {
   "cell_type": "markdown",
   "metadata": {},
   "source": [
    "promblem is that they all have like a 1.7% prefrence which just adds up over time. Going to try with just race"
   ]
  },
  {
   "cell_type": "code",
   "execution_count": null,
   "metadata": {},
   "outputs": [],
   "source": [
    "df = df.fillna(0)\n",
    "pop_virginia = np.array(df.loc[(df['state'] == 'Virginia') & (df['questions'] == 'Religion')]['options_perc']/100)\n",
    "weight = np.array((df.loc[(df['state'] == 'nation') & (df['questions'] == 'Religion')]['Trump_perc']) - (df.loc[(df['state'] == 'nation') & (df['questions'] == 'Religion')]['Clinton_perc']))/100\n",
    "\n",
    "print(weight)\n"
   ]
  },
  {
   "cell_type": "markdown",
   "metadata": {},
   "source": [
    "Idea: <br> \n",
    "\n",
    "Utah <br> \n",
    "\n",
    "<pre>\n",
    "<b>Population Weights</b><br>\n",
    "Race: (0.861, .02, ...) <br>\n",
    "Ethnicity: (0.78, 0.22) #Hispanic <br>\n",
    "Religion: (0.62, 0.12, ...) <br> \n",
    "Religious Attendence: (0.12, 0.22, 0.3, ...) <br> \n",
    "Gender: (0.56, 0.44) <br>\n",
    "LGBT+: (0.96, 0.04) <br>\n",
    "Education: (0.08, 0.12, 0.38, ...) <br>\n",
    "Income: (0.36, 0.12, 0.42, ...) <br> \n",
    "    \n",
    "    \n",
    "<b>Voting Weights</b><br>\n",
    "Race: (0.2, -.02, ...) <br>\n",
    "Ethnicity: (0.13, -0.22) #Hispanic <br>\n",
    "Religion: (0.56, -0.12, ...) <br> \n",
    "ect..\n",
    "</pre>\n",
    "\n",
    "\n",
    "1000 Agents per state\n",
    "\n",
    "86.1% are white, with 62% being mormon ect..."
   ]
  },
  {
   "cell_type": "code",
   "execution_count": null,
   "metadata": {},
   "outputs": [],
   "source": [
    "'''\n",
    "class Voter: \n",
    "    \n",
    "    def __init__(self):\n",
    "        pass\n",
    "    \n",
    "    def vote(self): \n",
    "        return race + religion + religosity + gender + queer + education + income + random_walk\n",
    "        \n",
    "class State: \n",
    "    \n",
    "    def __init__(self):\n",
    "        pass\n",
    "        \n",
    "    def demographics(self): \n",
    "        demographics = [voter1, voter2, ...]\n",
    "    \n",
    "    def vote(self): \n",
    "        return         \n",
    "'''       "
   ]
  },
  {
   "cell_type": "markdown",
   "metadata": {},
   "source": [
    "Voter Class"
   ]
  },
  {
   "cell_type": "code",
   "execution_count": null,
   "metadata": {},
   "outputs": [],
   "source": [
    "class Voter: \n",
    "        \n",
    "    def __init__(self, into, walk=5):\n",
    "        self.into = into\n",
    "        self.walk = walk\n",
    "        \n",
    "    \n",
    "    def vote(self): \n",
    "        random_walk = random.randrange(self.walk*-1, self.walk, self.walk/5)/10\n",
    "        vote = 0 \n",
    "        for key in self.into.keys(): \n",
    "            vote += self.into[key]\n",
    "        return  np.sign(vote)\n",
    "\n"
   ]
  },
  {
   "cell_type": "markdown",
   "metadata": {},
   "source": [
    "State Class"
   ]
  },
  {
   "cell_type": "code",
   "execution_count": null,
   "metadata": {},
   "outputs": [],
   "source": [
    "class State: \n",
    "    def __init__(self, demograpics, weights, char=['Race', 'Religion', \n",
    "                                'How often do you attend religious services?', 'Gender',\n",
    "                                'Are you gay, lesbian, bisexual or transgender?', 'Education', 'Income']):\n",
    "        self.demograpics = demograpics\n",
    "        self.voters = {'voters':[], 'vote':0}\n",
    "        self.weights = weights\n",
    "        self.characteristics = char\n",
    "        \n",
    "    def demographics(self): \n",
    "        for pop in range(1000):\n",
    "            into = {}\n",
    "            for char in  self.characteristics:\n",
    "                into[char] = float(np.random.choice(self.weights[char],1, self.demograpics[char]))\n",
    "            \n",
    "            person = Voter(into)\n",
    "            self.voters['voters'].append(person)\n",
    "            self.voters['vote'] += person.vote()\n",
    "                \n",
    "    \n",
    "    def vote(self): \n",
    "        return self.voters['vote']"
   ]
  },
  {
   "cell_type": "markdown",
   "metadata": {},
   "source": [
    "Trying to create Virginia"
   ]
  },
  {
   "cell_type": "code",
   "execution_count": null,
   "metadata": {},
   "outputs": [],
   "source": [
    "'''\n",
    "df = df.fillna(0)\n",
    "pop_virginia = np.array(df.loc[(df['state'] == 'Virginia') & (df['questions'] == 'Religion')]['options_perc']/100)\n",
    "weight = np.array((df.loc[(df['state'] == 'nation') & (df['questions'] == 'Religion')]['Trump_perc']) - (df.loc[(df['state'] == 'nation') & (df['questions'] == 'Religion')]['Clinton_perc']))/100\n",
    "\n",
    "Virginia = State(pop_virginia, weight).demographics()\n",
    "\n",
    "print(Virginia.vote())\n",
    "'''\n",
    "\n",
    "\n",
    "\n"
   ]
  },
  {
   "cell_type": "markdown",
   "metadata": {},
   "source": [
    "Trying to come up with a method to find weights, and state demograhics"
   ]
  },
  {
   "cell_type": "code",
   "execution_count": null,
   "metadata": {},
   "outputs": [],
   "source": [
    "df = pd.read_csv('exit_polls_data_cnn_04022017.csv') \n",
    "print(np.array(df.loc[(df['state'] == 'nation') & (df['questions'] == 'Race')]['options_perc']/100)[0:5])\n",
    "\n",
    "print((np.array((df.loc[(df['state'] == 'nation') & (df['questions'] == 'Race')]['Trump_perc'])\\\n",
    "         - (df.loc[(df['state'] == 'nation') & (df['questions'] == 'Race')]['Clinton_perc']))/100)[0:5])\n",
    "\n",
    "#print(df)"
   ]
  },
  {
   "cell_type": "markdown",
   "metadata": {},
   "source": [
    "National Weight Calculator"
   ]
  },
  {
   "cell_type": "code",
   "execution_count": null,
   "metadata": {},
   "outputs": [],
   "source": [
    "National_Weights = {}\n",
    "df = pd.read_csv('exit_polls_data_cnn_04022017.csv') \n",
    "Characteristics = ['Race', 'Religion', \n",
    "                    'How often do you attend religious services?', 'Gender',\n",
    "                    'Are you gay, lesbian, bisexual or transgender?', 'Education', 'Income']\n",
    "\n",
    "for i in Characteristics:\n",
    "    National_Weights[i] = list(((df.loc[(df['state'] == 'nation') & (df['questions'] == i)]['Trump_perc'])\\\n",
    "    - (df.loc[(df['state'] == 'nation') & (df['questions'] == i)]['Clinton_perc']))/100)\n",
    "\n",
    "print(National_Weights['Education'])\n"
   ]
  },
  {
   "cell_type": "code",
   "execution_count": null,
   "metadata": {},
   "outputs": [],
   "source": [
    "Virginia_Population = {}\n",
    "df = pd.read_csv('virginia_demogrphics.csv') \n",
    "Characteristics = ['Race', 'Religion', \n",
    "                    'How often do you attend religious services?', 'Gender',\n",
    "                    'Are you gay, lesbian, bisexual or transgender?', 'Education', 'Income']\n",
    "\n",
    "for i in Characteristics:\n",
    "    Virginia_Population[i] = list(df.loc[df['Question'] == i]['options_perc']/100)\n",
    "\n",
    "print(Virginia_Population['Education'])"
   ]
  },
  {
   "cell_type": "code",
   "execution_count": null,
   "metadata": {},
   "outputs": [],
   "source": [
    "x = 0 \n",
    "for key in Virginia_Population.keys():\n",
    "    x += sum(np.array(National_Weights[key]) * np.array(Virginia_Population[key]))\n",
    "print(x)"
   ]
  },
  {
   "cell_type": "markdown",
   "metadata": {},
   "source": [
    "Attempt 2 to calculate Virginia"
   ]
  },
  {
   "cell_type": "code",
   "execution_count": null,
   "metadata": {},
   "outputs": [],
   "source": [
    "#x = np.random.choice(np.array([1, 3]), 1, [0.8, 0.2])\n",
    "#print(float(x))\n",
    "sample_var = ['Race','Religion', 'Education']\n",
    "Virginia = State(Virginia_Population, National_Weights,sample_var)\n",
    "\n",
    "Virginia.demographics()\n",
    "\n",
    "print(Virginia.vote()/1000)\n"
   ]
  },
  {
   "cell_type": "code",
   "execution_count": null,
   "metadata": {},
   "outputs": [],
   "source": [
    "Maryland_Population = {}\n",
    "df = pd.read_csv('maryland_demogrphics.csv') \n",
    "Characteristics = ['Race', 'Religion', \n",
    "                    'How often do you attend religious services?', 'Gender',\n",
    "                    'Are you gay, lesbian, bisexual or transgender?', 'Education', 'Income']\n",
    "\n",
    "for i in Characteristics:\n",
    "    Maryland_Population[i] = list(df.loc[df['Question'] == i]['options_perc']/100)\n",
    "\n",
    "print(Maryland_Population['Education'])"
   ]
  },
  {
   "cell_type": "code",
   "execution_count": null,
   "metadata": {},
   "outputs": [],
   "source": [
    "#x = np.random.choice(np.array([1, 3]), 1, [0.8, 0.2])\n",
    "#print(float(x))\n",
    "sample_var = ['Race','Religion', 'Education']\n",
    "Maryland = State(Maryland_Population, National_Weights,sample_var)\n",
    "\n",
    "Maryland.demographics()\n",
    "\n",
    "print(Maryland.vote()/1000)"
   ]
  },
  {
   "cell_type": "code",
   "execution_count": null,
   "metadata": {},
   "outputs": [],
   "source": [
    "print(0.86 * 1000)"
   ]
  },
  {
   "cell_type": "markdown",
   "metadata": {},
   "source": [
    "practice with np.random.choice()"
   ]
  },
  {
   "cell_type": "code",
   "execution_count": null,
   "metadata": {},
   "outputs": [],
   "source": [
    "x = np.random.choice(np.array([1,2,3,4,5]), p=[0.9, 0.1, 0, 0, 0])\n",
    "print(x)"
   ]
  },
  {
   "cell_type": "code",
   "execution_count": null,
   "metadata": {},
   "outputs": [],
   "source": [
    "for pop, char in range(100), ['a', 'b', 'c']: \n",
    "    print(pop)\n",
    "    print(char)\n",
    "    "
   ]
  },
  {
   "cell_type": "code",
   "execution_count": null,
   "metadata": {},
   "outputs": [],
   "source": [
    "sample_var = ['Race']\n",
    "Maryland = State(Maryland_Population, National_Weights,sample_var)\n",
    "\n",
    "Maryland.demographics()\n",
    "\n",
    "print(Maryland.vote()/1000)"
   ]
  },
  {
   "cell_type": "code",
   "execution_count": null,
   "metadata": {},
   "outputs": [],
   "source": [
    "df = pd.read_csv('Census_Data.csv')\n",
    "print(df)"
   ]
  },
  {
   "cell_type": "markdown",
   "metadata": {},
   "source": [
    "Trying out some mapping packages in python"
   ]
  },
  {
   "cell_type": "code",
   "execution_count": 15,
   "metadata": {},
   "outputs": [
    {
     "ename": "KeyboardInterrupt",
     "evalue": "",
     "output_type": "error",
     "traceback": [
      "\u001b[0;31m---------------------------------------------------------------------------\u001b[0m",
      "\u001b[0;31mKeyboardInterrupt\u001b[0m                         Traceback (most recent call last)",
      "\u001b[0;32m<ipython-input-15-45c9c14bebf2>\u001b[0m in \u001b[0;36m<module>\u001b[0;34m\u001b[0m\n\u001b[0;32m----> 1\u001b[0;31m \u001b[0;32mimport\u001b[0m \u001b[0mplotly\u001b[0m\u001b[0;34m.\u001b[0m\u001b[0mfigure_factory\u001b[0m \u001b[0;32mas\u001b[0m \u001b[0mff\u001b[0m\u001b[0;34m\u001b[0m\u001b[0;34m\u001b[0m\u001b[0m\n\u001b[0m\u001b[1;32m      2\u001b[0m \u001b[0;32mimport\u001b[0m \u001b[0mnumpy\u001b[0m \u001b[0;32mas\u001b[0m \u001b[0mnp\u001b[0m\u001b[0;34m\u001b[0m\u001b[0;34m\u001b[0m\u001b[0m\n",
      "\u001b[0;32m/anaconda3/lib/python3.7/site-packages/plotly/figure_factory/__init__.py\u001b[0m in \u001b[0;36m<module>\u001b[0;34m\u001b[0m\n\u001b[1;32m     36\u001b[0m \u001b[0;34m\u001b[0m\u001b[0m\n\u001b[1;32m     37\u001b[0m \u001b[0;34m\u001b[0m\u001b[0m\n\u001b[0;32m---> 38\u001b[0;31m \u001b[0;32mif\u001b[0m \u001b[0moptional_imports\u001b[0m\u001b[0;34m.\u001b[0m\u001b[0mget_module\u001b[0m\u001b[0;34m(\u001b[0m\u001b[0;34m\"skimage\"\u001b[0m\u001b[0;34m)\u001b[0m \u001b[0;32mis\u001b[0m \u001b[0;32mnot\u001b[0m \u001b[0;32mNone\u001b[0m\u001b[0;34m:\u001b[0m\u001b[0;34m\u001b[0m\u001b[0;34m\u001b[0m\u001b[0m\n\u001b[0m\u001b[1;32m     39\u001b[0m     \u001b[0;32mfrom\u001b[0m \u001b[0mplotly\u001b[0m\u001b[0;34m.\u001b[0m\u001b[0mfigure_factory\u001b[0m\u001b[0;34m.\u001b[0m\u001b[0m_ternary_contour\u001b[0m \u001b[0;32mimport\u001b[0m \u001b[0mcreate_ternary_contour\u001b[0m\u001b[0;34m\u001b[0m\u001b[0;34m\u001b[0m\u001b[0m\n\u001b[1;32m     40\u001b[0m \u001b[0;32melse\u001b[0m\u001b[0;34m:\u001b[0m\u001b[0;34m\u001b[0m\u001b[0;34m\u001b[0m\u001b[0m\n",
      "\u001b[0;32m/anaconda3/lib/python3.7/site-packages/_plotly_utils/optional_imports.py\u001b[0m in \u001b[0;36mget_module\u001b[0;34m(name)\u001b[0m\n\u001b[1;32m     26\u001b[0m     \u001b[0;32mif\u001b[0m \u001b[0mname\u001b[0m \u001b[0;32mnot\u001b[0m \u001b[0;32min\u001b[0m \u001b[0m_not_importable\u001b[0m\u001b[0;34m:\u001b[0m\u001b[0;34m\u001b[0m\u001b[0;34m\u001b[0m\u001b[0m\n\u001b[1;32m     27\u001b[0m         \u001b[0;32mtry\u001b[0m\u001b[0;34m:\u001b[0m\u001b[0;34m\u001b[0m\u001b[0;34m\u001b[0m\u001b[0m\n\u001b[0;32m---> 28\u001b[0;31m             \u001b[0;32mreturn\u001b[0m \u001b[0mimport_module\u001b[0m\u001b[0;34m(\u001b[0m\u001b[0mname\u001b[0m\u001b[0;34m)\u001b[0m\u001b[0;34m\u001b[0m\u001b[0;34m\u001b[0m\u001b[0m\n\u001b[0m\u001b[1;32m     29\u001b[0m         \u001b[0;32mexcept\u001b[0m \u001b[0mImportError\u001b[0m\u001b[0;34m:\u001b[0m\u001b[0;34m\u001b[0m\u001b[0;34m\u001b[0m\u001b[0m\n\u001b[1;32m     30\u001b[0m             \u001b[0m_not_importable\u001b[0m\u001b[0;34m.\u001b[0m\u001b[0madd\u001b[0m\u001b[0;34m(\u001b[0m\u001b[0mname\u001b[0m\u001b[0;34m)\u001b[0m\u001b[0;34m\u001b[0m\u001b[0;34m\u001b[0m\u001b[0m\n",
      "\u001b[0;32m/anaconda3/lib/python3.7/importlib/__init__.py\u001b[0m in \u001b[0;36mimport_module\u001b[0;34m(name, package)\u001b[0m\n\u001b[1;32m    125\u001b[0m                 \u001b[0;32mbreak\u001b[0m\u001b[0;34m\u001b[0m\u001b[0;34m\u001b[0m\u001b[0m\n\u001b[1;32m    126\u001b[0m             \u001b[0mlevel\u001b[0m \u001b[0;34m+=\u001b[0m \u001b[0;36m1\u001b[0m\u001b[0;34m\u001b[0m\u001b[0;34m\u001b[0m\u001b[0m\n\u001b[0;32m--> 127\u001b[0;31m     \u001b[0;32mreturn\u001b[0m \u001b[0m_bootstrap\u001b[0m\u001b[0;34m.\u001b[0m\u001b[0m_gcd_import\u001b[0m\u001b[0;34m(\u001b[0m\u001b[0mname\u001b[0m\u001b[0;34m[\u001b[0m\u001b[0mlevel\u001b[0m\u001b[0;34m:\u001b[0m\u001b[0;34m]\u001b[0m\u001b[0;34m,\u001b[0m \u001b[0mpackage\u001b[0m\u001b[0;34m,\u001b[0m \u001b[0mlevel\u001b[0m\u001b[0;34m)\u001b[0m\u001b[0;34m\u001b[0m\u001b[0;34m\u001b[0m\u001b[0m\n\u001b[0m\u001b[1;32m    128\u001b[0m \u001b[0;34m\u001b[0m\u001b[0m\n\u001b[1;32m    129\u001b[0m \u001b[0;34m\u001b[0m\u001b[0m\n",
      "\u001b[0;32m/anaconda3/lib/python3.7/site-packages/skimage/__init__.py\u001b[0m in \u001b[0;36m<module>\u001b[0;34m\u001b[0m\n\u001b[1;32m    175\u001b[0m \u001b[0;34m\u001b[0m\u001b[0m\n\u001b[1;32m    176\u001b[0m     \u001b[0;32mfrom\u001b[0m \u001b[0;34m.\u001b[0m\u001b[0mutil\u001b[0m\u001b[0;34m.\u001b[0m\u001b[0mlookfor\u001b[0m \u001b[0;32mimport\u001b[0m \u001b[0mlookfor\u001b[0m\u001b[0;34m\u001b[0m\u001b[0;34m\u001b[0m\u001b[0m\n\u001b[0;32m--> 177\u001b[0;31m     \u001b[0;32mfrom\u001b[0m \u001b[0;34m.\u001b[0m\u001b[0mdata\u001b[0m \u001b[0;32mimport\u001b[0m \u001b[0mdata_dir\u001b[0m\u001b[0;34m\u001b[0m\u001b[0;34m\u001b[0m\u001b[0m\n\u001b[0m\u001b[1;32m    178\u001b[0m \u001b[0;34m\u001b[0m\u001b[0m\n\u001b[1;32m    179\u001b[0m \u001b[0;34m\u001b[0m\u001b[0m\n",
      "\u001b[0;32m/anaconda3/lib/python3.7/site-packages/skimage/data/__init__.py\u001b[0m in \u001b[0;36m<module>\u001b[0;34m\u001b[0m\n\u001b[1;32m     13\u001b[0m \u001b[0;32mimport\u001b[0m \u001b[0mnumpy\u001b[0m \u001b[0;32mas\u001b[0m \u001b[0m_np\u001b[0m\u001b[0;34m\u001b[0m\u001b[0;34m\u001b[0m\u001b[0m\n\u001b[1;32m     14\u001b[0m \u001b[0;34m\u001b[0m\u001b[0m\n\u001b[0;32m---> 15\u001b[0;31m \u001b[0;32mfrom\u001b[0m \u001b[0;34m.\u001b[0m\u001b[0;34m.\u001b[0m\u001b[0mio\u001b[0m \u001b[0;32mimport\u001b[0m \u001b[0mimread\u001b[0m\u001b[0;34m,\u001b[0m \u001b[0muse_plugin\u001b[0m\u001b[0;34m\u001b[0m\u001b[0;34m\u001b[0m\u001b[0m\n\u001b[0m\u001b[1;32m     16\u001b[0m \u001b[0;32mfrom\u001b[0m \u001b[0;34m.\u001b[0m\u001b[0;34m.\u001b[0m\u001b[0m_shared\u001b[0m\u001b[0;34m.\u001b[0m\u001b[0m_warnings\u001b[0m \u001b[0;32mimport\u001b[0m \u001b[0mexpected_warnings\u001b[0m\u001b[0;34m,\u001b[0m \u001b[0mwarn\u001b[0m\u001b[0;34m\u001b[0m\u001b[0;34m\u001b[0m\u001b[0m\n\u001b[1;32m     17\u001b[0m \u001b[0;32mfrom\u001b[0m \u001b[0;34m.\u001b[0m\u001b[0;34m.\u001b[0m\u001b[0mutil\u001b[0m\u001b[0;34m.\u001b[0m\u001b[0mdtype\u001b[0m \u001b[0;32mimport\u001b[0m \u001b[0mimg_as_bool\u001b[0m\u001b[0;34m\u001b[0m\u001b[0;34m\u001b[0m\u001b[0m\n",
      "\u001b[0;32m/anaconda3/lib/python3.7/site-packages/skimage/io/__init__.py\u001b[0m in \u001b[0;36m<module>\u001b[0;34m\u001b[0m\n\u001b[1;32m     13\u001b[0m \u001b[0;34m\u001b[0m\u001b[0m\n\u001b[1;32m     14\u001b[0m \u001b[0;34m\u001b[0m\u001b[0m\n\u001b[0;32m---> 15\u001b[0;31m \u001b[0mreset_plugins\u001b[0m\u001b[0;34m(\u001b[0m\u001b[0;34m)\u001b[0m\u001b[0;34m\u001b[0m\u001b[0;34m\u001b[0m\u001b[0m\n\u001b[0m\u001b[1;32m     16\u001b[0m \u001b[0;34m\u001b[0m\u001b[0m\n\u001b[1;32m     17\u001b[0m \u001b[0mWRAP_LEN\u001b[0m \u001b[0;34m=\u001b[0m \u001b[0;36m73\u001b[0m\u001b[0;34m\u001b[0m\u001b[0;34m\u001b[0m\u001b[0m\n",
      "\u001b[0;32m/anaconda3/lib/python3.7/site-packages/skimage/io/manage_plugins.py\u001b[0m in \u001b[0;36mreset_plugins\u001b[0;34m()\u001b[0m\n\u001b[1;32m     93\u001b[0m \u001b[0;32mdef\u001b[0m \u001b[0mreset_plugins\u001b[0m\u001b[0;34m(\u001b[0m\u001b[0;34m)\u001b[0m\u001b[0;34m:\u001b[0m\u001b[0;34m\u001b[0m\u001b[0;34m\u001b[0m\u001b[0m\n\u001b[1;32m     94\u001b[0m     \u001b[0m_clear_plugins\u001b[0m\u001b[0;34m(\u001b[0m\u001b[0;34m)\u001b[0m\u001b[0;34m\u001b[0m\u001b[0;34m\u001b[0m\u001b[0m\n\u001b[0;32m---> 95\u001b[0;31m     \u001b[0m_load_preferred_plugins\u001b[0m\u001b[0;34m(\u001b[0m\u001b[0;34m)\u001b[0m\u001b[0;34m\u001b[0m\u001b[0;34m\u001b[0m\u001b[0m\n\u001b[0m\u001b[1;32m     96\u001b[0m \u001b[0;34m\u001b[0m\u001b[0m\n\u001b[1;32m     97\u001b[0m \u001b[0;34m\u001b[0m\u001b[0m\n",
      "\u001b[0;32m/anaconda3/lib/python3.7/site-packages/skimage/io/manage_plugins.py\u001b[0m in \u001b[0;36m_load_preferred_plugins\u001b[0;34m()\u001b[0m\n\u001b[1;32m     73\u001b[0m                 'imread']\n\u001b[1;32m     74\u001b[0m     \u001b[0;32mfor\u001b[0m \u001b[0mp_type\u001b[0m \u001b[0;32min\u001b[0m \u001b[0mio_types\u001b[0m\u001b[0;34m:\u001b[0m\u001b[0;34m\u001b[0m\u001b[0;34m\u001b[0m\u001b[0m\n\u001b[0;32m---> 75\u001b[0;31m         \u001b[0m_set_plugin\u001b[0m\u001b[0;34m(\u001b[0m\u001b[0mp_type\u001b[0m\u001b[0;34m,\u001b[0m \u001b[0mpreferred_plugins\u001b[0m\u001b[0;34m[\u001b[0m\u001b[0;34m'all'\u001b[0m\u001b[0;34m]\u001b[0m\u001b[0;34m)\u001b[0m\u001b[0;34m\u001b[0m\u001b[0;34m\u001b[0m\u001b[0m\n\u001b[0m\u001b[1;32m     76\u001b[0m \u001b[0;34m\u001b[0m\u001b[0m\n\u001b[1;32m     77\u001b[0m     \u001b[0mplugin_types\u001b[0m \u001b[0;34m=\u001b[0m \u001b[0;34m(\u001b[0m\u001b[0mp\u001b[0m \u001b[0;32mfor\u001b[0m \u001b[0mp\u001b[0m \u001b[0;32min\u001b[0m \u001b[0mpreferred_plugins\u001b[0m\u001b[0;34m.\u001b[0m\u001b[0mkeys\u001b[0m\u001b[0;34m(\u001b[0m\u001b[0;34m)\u001b[0m \u001b[0;32mif\u001b[0m \u001b[0mp\u001b[0m \u001b[0;34m!=\u001b[0m \u001b[0;34m'all'\u001b[0m\u001b[0;34m)\u001b[0m\u001b[0;34m\u001b[0m\u001b[0;34m\u001b[0m\u001b[0m\n",
      "\u001b[0;32m/anaconda3/lib/python3.7/site-packages/skimage/io/manage_plugins.py\u001b[0m in \u001b[0;36m_set_plugin\u001b[0;34m(plugin_type, plugin_list)\u001b[0m\n\u001b[1;32m     85\u001b[0m             \u001b[0;32mcontinue\u001b[0m\u001b[0;34m\u001b[0m\u001b[0;34m\u001b[0m\u001b[0m\n\u001b[1;32m     86\u001b[0m         \u001b[0;32mtry\u001b[0m\u001b[0;34m:\u001b[0m\u001b[0;34m\u001b[0m\u001b[0;34m\u001b[0m\u001b[0m\n\u001b[0;32m---> 87\u001b[0;31m             \u001b[0muse_plugin\u001b[0m\u001b[0;34m(\u001b[0m\u001b[0mplugin\u001b[0m\u001b[0;34m,\u001b[0m \u001b[0mkind\u001b[0m\u001b[0;34m=\u001b[0m\u001b[0mplugin_type\u001b[0m\u001b[0;34m)\u001b[0m\u001b[0;34m\u001b[0m\u001b[0;34m\u001b[0m\u001b[0m\n\u001b[0m\u001b[1;32m     88\u001b[0m             \u001b[0;32mbreak\u001b[0m\u001b[0;34m\u001b[0m\u001b[0;34m\u001b[0m\u001b[0m\n\u001b[1;32m     89\u001b[0m         \u001b[0;32mexcept\u001b[0m \u001b[0;34m(\u001b[0m\u001b[0mImportError\u001b[0m\u001b[0;34m,\u001b[0m \u001b[0mRuntimeError\u001b[0m\u001b[0;34m,\u001b[0m \u001b[0mOSError\u001b[0m\u001b[0;34m)\u001b[0m\u001b[0;34m:\u001b[0m\u001b[0;34m\u001b[0m\u001b[0;34m\u001b[0m\u001b[0m\n",
      "\u001b[0;32m/anaconda3/lib/python3.7/site-packages/skimage/io/manage_plugins.py\u001b[0m in \u001b[0;36muse_plugin\u001b[0;34m(name, kind)\u001b[0m\n\u001b[1;32m    256\u001b[0m             \u001b[0mkind\u001b[0m \u001b[0;34m=\u001b[0m \u001b[0;34m[\u001b[0m\u001b[0mkind\u001b[0m\u001b[0;34m]\u001b[0m\u001b[0;34m\u001b[0m\u001b[0;34m\u001b[0m\u001b[0m\n\u001b[1;32m    257\u001b[0m \u001b[0;34m\u001b[0m\u001b[0m\n\u001b[0;32m--> 258\u001b[0;31m     \u001b[0m_load\u001b[0m\u001b[0;34m(\u001b[0m\u001b[0mname\u001b[0m\u001b[0;34m)\u001b[0m\u001b[0;34m\u001b[0m\u001b[0;34m\u001b[0m\u001b[0m\n\u001b[0m\u001b[1;32m    259\u001b[0m \u001b[0;34m\u001b[0m\u001b[0m\n\u001b[1;32m    260\u001b[0m     \u001b[0;32mfor\u001b[0m \u001b[0mk\u001b[0m \u001b[0;32min\u001b[0m \u001b[0mkind\u001b[0m\u001b[0;34m:\u001b[0m\u001b[0;34m\u001b[0m\u001b[0;34m\u001b[0m\u001b[0m\n",
      "\u001b[0;32m/anaconda3/lib/python3.7/site-packages/skimage/io/manage_plugins.py\u001b[0m in \u001b[0;36m_load\u001b[0;34m(plugin)\u001b[0m\n\u001b[1;32m    300\u001b[0m         \u001b[0mmodname\u001b[0m \u001b[0;34m=\u001b[0m \u001b[0mplugin_module_name\u001b[0m\u001b[0;34m[\u001b[0m\u001b[0mplugin\u001b[0m\u001b[0;34m]\u001b[0m\u001b[0;34m\u001b[0m\u001b[0;34m\u001b[0m\u001b[0m\n\u001b[1;32m    301\u001b[0m         plugin_module = __import__('skimage.io._plugins.' + modname,\n\u001b[0;32m--> 302\u001b[0;31m                                    fromlist=[modname])\n\u001b[0m\u001b[1;32m    303\u001b[0m \u001b[0;34m\u001b[0m\u001b[0m\n\u001b[1;32m    304\u001b[0m     \u001b[0mprovides\u001b[0m \u001b[0;34m=\u001b[0m \u001b[0mplugin_provides\u001b[0m\u001b[0;34m[\u001b[0m\u001b[0mplugin\u001b[0m\u001b[0;34m]\u001b[0m\u001b[0;34m\u001b[0m\u001b[0;34m\u001b[0m\u001b[0m\n",
      "\u001b[0;32m/anaconda3/lib/python3.7/site-packages/skimage/io/_plugins/matplotlib_plugin.py\u001b[0m in \u001b[0;36m<module>\u001b[0;34m\u001b[0m\n\u001b[1;32m      2\u001b[0m \u001b[0;32mfrom\u001b[0m \u001b[0mcollections\u001b[0m \u001b[0;32mimport\u001b[0m \u001b[0mnamedtuple\u001b[0m\u001b[0;34m\u001b[0m\u001b[0;34m\u001b[0m\u001b[0m\n\u001b[1;32m      3\u001b[0m \u001b[0;32mimport\u001b[0m \u001b[0mnumpy\u001b[0m \u001b[0;32mas\u001b[0m \u001b[0mnp\u001b[0m\u001b[0;34m\u001b[0m\u001b[0;34m\u001b[0m\u001b[0m\n\u001b[0;32m----> 4\u001b[0;31m \u001b[0;32mfrom\u001b[0m \u001b[0mmpl_toolkits\u001b[0m\u001b[0;34m.\u001b[0m\u001b[0maxes_grid1\u001b[0m \u001b[0;32mimport\u001b[0m \u001b[0mmake_axes_locatable\u001b[0m\u001b[0;34m\u001b[0m\u001b[0;34m\u001b[0m\u001b[0m\n\u001b[0m\u001b[1;32m      5\u001b[0m \u001b[0;32mimport\u001b[0m \u001b[0mmatplotlib\u001b[0m\u001b[0;34m.\u001b[0m\u001b[0mimage\u001b[0m\u001b[0;34m\u001b[0m\u001b[0;34m\u001b[0m\u001b[0m\n\u001b[1;32m      6\u001b[0m \u001b[0;32mfrom\u001b[0m \u001b[0;34m...\u001b[0m\u001b[0mutil\u001b[0m \u001b[0;32mimport\u001b[0m \u001b[0mdtype\u001b[0m \u001b[0;32mas\u001b[0m \u001b[0mdtypes\u001b[0m\u001b[0;34m\u001b[0m\u001b[0;34m\u001b[0m\u001b[0m\n",
      "\u001b[0;32m/anaconda3/lib/python3.7/site-packages/mpl_toolkits/axes_grid1/__init__.py\u001b[0m in \u001b[0;36m<module>\u001b[0;34m\u001b[0m\n\u001b[0;32m----> 1\u001b[0;31m \u001b[0;32mfrom\u001b[0m \u001b[0;34m.\u001b[0m \u001b[0;32mimport\u001b[0m \u001b[0maxes_size\u001b[0m \u001b[0;32mas\u001b[0m \u001b[0mSize\u001b[0m\u001b[0;34m\u001b[0m\u001b[0;34m\u001b[0m\u001b[0m\n\u001b[0m\u001b[1;32m      2\u001b[0m \u001b[0;32mfrom\u001b[0m \u001b[0;34m.\u001b[0m\u001b[0maxes_divider\u001b[0m \u001b[0;32mimport\u001b[0m \u001b[0mDivider\u001b[0m\u001b[0;34m,\u001b[0m \u001b[0mSubplotDivider\u001b[0m\u001b[0;34m,\u001b[0m \u001b[0mLocatableAxes\u001b[0m\u001b[0;34m,\u001b[0m\u001b[0;31m \u001b[0m\u001b[0;31m\\\u001b[0m\u001b[0;34m\u001b[0m\u001b[0;34m\u001b[0m\u001b[0m\n\u001b[1;32m      3\u001b[0m      \u001b[0mmake_axes_locatable\u001b[0m\u001b[0;34m\u001b[0m\u001b[0;34m\u001b[0m\u001b[0m\n\u001b[1;32m      4\u001b[0m \u001b[0;32mfrom\u001b[0m \u001b[0;34m.\u001b[0m\u001b[0maxes_grid\u001b[0m \u001b[0;32mimport\u001b[0m \u001b[0mGrid\u001b[0m\u001b[0;34m,\u001b[0m \u001b[0mImageGrid\u001b[0m\u001b[0;34m,\u001b[0m \u001b[0mAxesGrid\u001b[0m\u001b[0;34m\u001b[0m\u001b[0;34m\u001b[0m\u001b[0m\n\u001b[1;32m      5\u001b[0m \u001b[0;31m#from axes_divider import make_axes_locatable\u001b[0m\u001b[0;34m\u001b[0m\u001b[0;34m\u001b[0m\u001b[0;34m\u001b[0m\u001b[0m\n",
      "\u001b[0;32m/anaconda3/lib/python3.7/site-packages/mpl_toolkits/axes_grid1/axes_size.py\u001b[0m in \u001b[0;36m<module>\u001b[0;34m\u001b[0m\n\u001b[1;32m     13\u001b[0m \u001b[0;32mfrom\u001b[0m \u001b[0mnumbers\u001b[0m \u001b[0;32mimport\u001b[0m \u001b[0mNumber\u001b[0m\u001b[0;34m\u001b[0m\u001b[0;34m\u001b[0m\u001b[0m\n\u001b[1;32m     14\u001b[0m \u001b[0;34m\u001b[0m\u001b[0m\n\u001b[0;32m---> 15\u001b[0;31m \u001b[0;32mfrom\u001b[0m \u001b[0mmatplotlib\u001b[0m\u001b[0;34m.\u001b[0m\u001b[0maxes\u001b[0m \u001b[0;32mimport\u001b[0m \u001b[0mAxes\u001b[0m\u001b[0;34m\u001b[0m\u001b[0;34m\u001b[0m\u001b[0m\n\u001b[0m\u001b[1;32m     16\u001b[0m \u001b[0;34m\u001b[0m\u001b[0m\n\u001b[1;32m     17\u001b[0m \u001b[0;34m\u001b[0m\u001b[0m\n",
      "\u001b[0;32m/anaconda3/lib/python3.7/site-packages/matplotlib/axes/__init__.py\u001b[0m in \u001b[0;36m<module>\u001b[0;34m\u001b[0m\n\u001b[0;32m----> 1\u001b[0;31m \u001b[0;32mfrom\u001b[0m \u001b[0;34m.\u001b[0m\u001b[0m_subplots\u001b[0m \u001b[0;32mimport\u001b[0m \u001b[0;34m*\u001b[0m\u001b[0;34m\u001b[0m\u001b[0;34m\u001b[0m\u001b[0m\n\u001b[0m\u001b[1;32m      2\u001b[0m \u001b[0;32mfrom\u001b[0m \u001b[0;34m.\u001b[0m\u001b[0m_axes\u001b[0m \u001b[0;32mimport\u001b[0m \u001b[0;34m*\u001b[0m\u001b[0;34m\u001b[0m\u001b[0;34m\u001b[0m\u001b[0m\n",
      "\u001b[0;32m/anaconda3/lib/python3.7/site-packages/matplotlib/axes/_subplots.py\u001b[0m in \u001b[0;36m<module>\u001b[0;34m\u001b[0m\n\u001b[1;32m      5\u001b[0m \u001b[0;32mimport\u001b[0m \u001b[0mmatplotlib\u001b[0m\u001b[0;34m.\u001b[0m\u001b[0martist\u001b[0m \u001b[0;32mas\u001b[0m \u001b[0mmartist\u001b[0m\u001b[0;34m\u001b[0m\u001b[0;34m\u001b[0m\u001b[0m\n\u001b[1;32m      6\u001b[0m \u001b[0;32mfrom\u001b[0m \u001b[0mmatplotlib\u001b[0m\u001b[0;34m.\u001b[0m\u001b[0maxes\u001b[0m\u001b[0;34m.\u001b[0m\u001b[0m_axes\u001b[0m \u001b[0;32mimport\u001b[0m \u001b[0mAxes\u001b[0m\u001b[0;34m\u001b[0m\u001b[0;34m\u001b[0m\u001b[0m\n\u001b[0;32m----> 7\u001b[0;31m \u001b[0;32mfrom\u001b[0m \u001b[0mmatplotlib\u001b[0m\u001b[0;34m.\u001b[0m\u001b[0mgridspec\u001b[0m \u001b[0;32mimport\u001b[0m \u001b[0mGridSpec\u001b[0m\u001b[0;34m,\u001b[0m \u001b[0mSubplotSpec\u001b[0m\u001b[0;34m\u001b[0m\u001b[0;34m\u001b[0m\u001b[0m\n\u001b[0m\u001b[1;32m      8\u001b[0m \u001b[0;32mimport\u001b[0m \u001b[0mmatplotlib\u001b[0m\u001b[0;34m.\u001b[0m\u001b[0m_layoutbox\u001b[0m \u001b[0;32mas\u001b[0m \u001b[0mlayoutbox\u001b[0m\u001b[0;34m\u001b[0m\u001b[0;34m\u001b[0m\u001b[0m\n\u001b[1;32m      9\u001b[0m \u001b[0;34m\u001b[0m\u001b[0m\n",
      "\u001b[0;32m/anaconda3/lib/python3.7/site-packages/matplotlib/gridspec.py\u001b[0m in \u001b[0;36m<module>\u001b[0;34m\u001b[0m\n\u001b[1;32m     23\u001b[0m \u001b[0;32mfrom\u001b[0m \u001b[0mmatplotlib\u001b[0m \u001b[0;32mimport\u001b[0m \u001b[0m_pylab_helpers\u001b[0m\u001b[0;34m,\u001b[0m \u001b[0mcbook\u001b[0m\u001b[0;34m,\u001b[0m \u001b[0mtight_layout\u001b[0m\u001b[0;34m,\u001b[0m \u001b[0mrcParams\u001b[0m\u001b[0;34m\u001b[0m\u001b[0;34m\u001b[0m\u001b[0m\n\u001b[1;32m     24\u001b[0m \u001b[0;32mfrom\u001b[0m \u001b[0mmatplotlib\u001b[0m\u001b[0;34m.\u001b[0m\u001b[0mtransforms\u001b[0m \u001b[0;32mimport\u001b[0m \u001b[0mBbox\u001b[0m\u001b[0;34m\u001b[0m\u001b[0;34m\u001b[0m\u001b[0m\n\u001b[0;32m---> 25\u001b[0;31m \u001b[0;32mimport\u001b[0m \u001b[0mmatplotlib\u001b[0m\u001b[0;34m.\u001b[0m\u001b[0m_layoutbox\u001b[0m \u001b[0;32mas\u001b[0m \u001b[0mlayoutbox\u001b[0m\u001b[0;34m\u001b[0m\u001b[0;34m\u001b[0m\u001b[0m\n\u001b[0m\u001b[1;32m     26\u001b[0m \u001b[0;34m\u001b[0m\u001b[0m\n\u001b[1;32m     27\u001b[0m \u001b[0m_log\u001b[0m \u001b[0;34m=\u001b[0m \u001b[0mlogging\u001b[0m\u001b[0;34m.\u001b[0m\u001b[0mgetLogger\u001b[0m\u001b[0;34m(\u001b[0m\u001b[0m__name__\u001b[0m\u001b[0;34m)\u001b[0m\u001b[0;34m\u001b[0m\u001b[0;34m\u001b[0m\u001b[0m\n",
      "\u001b[0;32m/anaconda3/lib/python3.7/site-packages/matplotlib/_layoutbox.py\u001b[0m in \u001b[0;36m<module>\u001b[0;34m\u001b[0m\n\u001b[1;32m     17\u001b[0m \u001b[0;34m\u001b[0m\u001b[0m\n\u001b[1;32m     18\u001b[0m \u001b[0;32mimport\u001b[0m \u001b[0mitertools\u001b[0m\u001b[0;34m\u001b[0m\u001b[0;34m\u001b[0m\u001b[0m\n\u001b[0;32m---> 19\u001b[0;31m \u001b[0;32mimport\u001b[0m \u001b[0mkiwisolver\u001b[0m \u001b[0;32mas\u001b[0m \u001b[0mkiwi\u001b[0m\u001b[0;34m\u001b[0m\u001b[0;34m\u001b[0m\u001b[0m\n\u001b[0m\u001b[1;32m     20\u001b[0m \u001b[0;32mimport\u001b[0m \u001b[0mlogging\u001b[0m\u001b[0;34m\u001b[0m\u001b[0;34m\u001b[0m\u001b[0m\n\u001b[1;32m     21\u001b[0m \u001b[0;32mimport\u001b[0m \u001b[0mnumpy\u001b[0m \u001b[0;32mas\u001b[0m \u001b[0mnp\u001b[0m\u001b[0;34m\u001b[0m\u001b[0;34m\u001b[0m\u001b[0m\n",
      "\u001b[0;31mKeyboardInterrupt\u001b[0m: "
     ]
    }
   ],
   "source": [
    "import plotly.figure_factory as ff\n",
    "import numpy as np"
   ]
  },
  {
   "cell_type": "code",
   "execution_count": null,
   "metadata": {},
   "outputs": [],
   "source": [
    "import plotly.figure_factory as ff\n",
    "import numpy as np\n",
    "\n",
    "fips = np.array(['06021', '06023', '06027',\n",
    "        '06029', '06033', '06059',\n",
    "        '06047', '06049', '06051',\n",
    "        '06055', '06061'])\n",
    "values = np.zeros(len(fips))\n",
    "\n",
    "fig = ff.create_choropleth(fips=fips, values=values)\n",
    "fig.layout.template = None\n",
    "fig.show()"
   ]
  },
  {
   "cell_type": "code",
   "execution_count": null,
   "metadata": {},
   "outputs": [],
   "source": [
    "import plotly.figure_factory as ff\n",
    "\n",
    "import numpy as np\n",
    "import pandas as pd\n",
    "\n",
    "df_sample = pd.read_csv('https://raw.githubusercontent.com/plotly/datasets/master/minoritymajority.csv')\n",
    "df_sample_r = df_sample\n",
    "\n",
    "values = df_sample_r['TOT_POP'].tolist()\n",
    "fips = df_sample_r['FIPS'].tolist()\n",
    "\n",
    "colorscale = [\n",
    "    'rgb(193, 193, 193)',\n",
    "    'rgb(239,239,239)',\n",
    "    'rgb(195, 196, 222)',\n",
    "    'rgb(144,148,194)',\n",
    "    'rgb(101,104,168)',\n",
    "    'rgb(65, 53, 132)'\n",
    "]\n",
    "\n",
    "fig = ff.create_choropleth(\n",
    "    fips=fips, values=values,\n",
    "    binning_endpoints=[14348, 63983, 134827, 426762, 2081313], colorscale=colorscale,\n",
    "    county_outline={'color': 'rgb(255,255,255)', 'width': 0.5}, round_legend_values=True,\n",
    "    legend_title='Population by County', title='California and Nearby States'\n",
    ")\n",
    "fig.layout.template = None\n",
    "fig.show()"
   ]
  },
  {
   "cell_type": "code",
   "execution_count": 1,
   "metadata": {},
   "outputs": [
    {
     "data": {
      "text/plain": [
       "12"
      ]
     },
     "execution_count": 1,
     "metadata": {},
     "output_type": "execute_result"
    }
   ],
   "source": [
    "(lambda x: x + 8)(4)"
   ]
  },
  {
   "cell_type": "code",
   "execution_count": 11,
   "metadata": {},
   "outputs": [
    {
     "data": {
      "text/plain": [
       "[0, -1, 1, -2, 2, -3, 3, -4, 4, -5, 5]"
      ]
     },
     "execution_count": 11,
     "metadata": {},
     "output_type": "execute_result"
    }
   ],
   "source": [
    "sorted(range(-5, 6), key=lambda x: x ** 2)"
   ]
  },
  {
   "cell_type": "code",
   "execution_count": 14,
   "metadata": {},
   "outputs": [
    {
     "name": "stdout",
     "output_type": "stream",
     "text": [
      "<filter object at 0x110a8e9b0>\n"
     ]
    }
   ],
   "source": [
    "x = filter([1,2,3,4,5], [1,2])\n",
    "print(x)"
   ]
  },
  {
   "cell_type": "code",
   "execution_count": 24,
   "metadata": {},
   "outputs": [
    {
     "ename": "AttributeError",
     "evalue": "'Series' object has no attribute 'strip'",
     "output_type": "error",
     "traceback": [
      "\u001b[0;31m---------------------------------------------------------------------------\u001b[0m",
      "\u001b[0;31mAttributeError\u001b[0m                            Traceback (most recent call last)",
      "\u001b[0;32m<ipython-input-24-b2fd97e603fb>\u001b[0m in \u001b[0;36m<module>\u001b[0;34m\u001b[0m\n\u001b[1;32m     14\u001b[0m \u001b[0mendpts\u001b[0m \u001b[0;34m=\u001b[0m \u001b[0mlist\u001b[0m\u001b[0;34m(\u001b[0m\u001b[0mnp\u001b[0m\u001b[0;34m.\u001b[0m\u001b[0mlinspace\u001b[0m\u001b[0;34m(\u001b[0m\u001b[0;36m1\u001b[0m\u001b[0;34m,\u001b[0m \u001b[0;36m12\u001b[0m\u001b[0;34m,\u001b[0m \u001b[0mlen\u001b[0m\u001b[0;34m(\u001b[0m\u001b[0mcolorscale\u001b[0m\u001b[0;34m)\u001b[0m \u001b[0;34m-\u001b[0m \u001b[0;36m1\u001b[0m\u001b[0;34m)\u001b[0m\u001b[0;34m)\u001b[0m\u001b[0;34m\u001b[0m\u001b[0;34m\u001b[0m\u001b[0m\n\u001b[1;32m     15\u001b[0m \u001b[0mfips\u001b[0m \u001b[0;34m=\u001b[0m \u001b[0mdf_sample\u001b[0m\u001b[0;34m[\u001b[0m\u001b[0;34m'FIPS'\u001b[0m\u001b[0;34m]\u001b[0m\u001b[0;34m.\u001b[0m\u001b[0mtolist\u001b[0m\u001b[0;34m(\u001b[0m\u001b[0;34m)\u001b[0m\u001b[0;34m\u001b[0m\u001b[0;34m\u001b[0m\u001b[0m\n\u001b[0;32m---> 16\u001b[0;31m \u001b[0mvalues\u001b[0m \u001b[0;34m=\u001b[0m \u001b[0mint\u001b[0m\u001b[0;34m(\u001b[0m\u001b[0;34m''\u001b[0m\u001b[0;34m.\u001b[0m\u001b[0mjoin\u001b[0m\u001b[0;34m(\u001b[0m\u001b[0;34m(\u001b[0m\u001b[0mdf_sample\u001b[0m\u001b[0;34m[\u001b[0m\u001b[0;34m'Labor Force'\u001b[0m\u001b[0;34m]\u001b[0m\u001b[0;34m)\u001b[0m\u001b[0;34m.\u001b[0m\u001b[0mstrip\u001b[0m\u001b[0;34m(\u001b[0m\u001b[0;34m)\u001b[0m\u001b[0;34m.\u001b[0m\u001b[0msplit\u001b[0m\u001b[0;34m(\u001b[0m\u001b[0;34m','\u001b[0m\u001b[0;34m)\u001b[0m\u001b[0;34m)\u001b[0m\u001b[0;34m)\u001b[0m\u001b[0;34m.\u001b[0m\u001b[0mtolist\u001b[0m\u001b[0;34m(\u001b[0m\u001b[0;34m)\u001b[0m\u001b[0;34m\u001b[0m\u001b[0;34m\u001b[0m\u001b[0m\n\u001b[0m\u001b[1;32m     17\u001b[0m \u001b[0;31m#values = df_sample[int('Labor Force'.strip().split(','))].tolist()\u001b[0m\u001b[0;34m\u001b[0m\u001b[0;34m\u001b[0m\u001b[0;34m\u001b[0m\u001b[0m\n\u001b[1;32m     18\u001b[0m fig = ff.create_choropleth(\n",
      "\u001b[0;32m/anaconda3/lib/python3.7/site-packages/pandas/core/generic.py\u001b[0m in \u001b[0;36m__getattr__\u001b[0;34m(self, name)\u001b[0m\n\u001b[1;32m   4374\u001b[0m             \u001b[0;32mif\u001b[0m \u001b[0mself\u001b[0m\u001b[0;34m.\u001b[0m\u001b[0m_info_axis\u001b[0m\u001b[0;34m.\u001b[0m\u001b[0m_can_hold_identifiers_and_holds_name\u001b[0m\u001b[0;34m(\u001b[0m\u001b[0mname\u001b[0m\u001b[0;34m)\u001b[0m\u001b[0;34m:\u001b[0m\u001b[0;34m\u001b[0m\u001b[0;34m\u001b[0m\u001b[0m\n\u001b[1;32m   4375\u001b[0m                 \u001b[0;32mreturn\u001b[0m \u001b[0mself\u001b[0m\u001b[0;34m[\u001b[0m\u001b[0mname\u001b[0m\u001b[0;34m]\u001b[0m\u001b[0;34m\u001b[0m\u001b[0;34m\u001b[0m\u001b[0m\n\u001b[0;32m-> 4376\u001b[0;31m             \u001b[0;32mreturn\u001b[0m \u001b[0mobject\u001b[0m\u001b[0;34m.\u001b[0m\u001b[0m__getattribute__\u001b[0m\u001b[0;34m(\u001b[0m\u001b[0mself\u001b[0m\u001b[0;34m,\u001b[0m \u001b[0mname\u001b[0m\u001b[0;34m)\u001b[0m\u001b[0;34m\u001b[0m\u001b[0;34m\u001b[0m\u001b[0m\n\u001b[0m\u001b[1;32m   4377\u001b[0m \u001b[0;34m\u001b[0m\u001b[0m\n\u001b[1;32m   4378\u001b[0m     \u001b[0;32mdef\u001b[0m \u001b[0m__setattr__\u001b[0m\u001b[0;34m(\u001b[0m\u001b[0mself\u001b[0m\u001b[0;34m,\u001b[0m \u001b[0mname\u001b[0m\u001b[0;34m,\u001b[0m \u001b[0mvalue\u001b[0m\u001b[0;34m)\u001b[0m\u001b[0;34m:\u001b[0m\u001b[0;34m\u001b[0m\u001b[0;34m\u001b[0m\u001b[0m\n",
      "\u001b[0;31mAttributeError\u001b[0m: 'Series' object has no attribute 'strip'"
     ]
    }
   ],
   "source": [
    "import plotly.figure_factory as ff\n",
    "\n",
    "import numpy as np\n",
    "import pandas as pd\n",
    "\n",
    "df_sample = pd.read_csv('https://raw.githubusercontent.com/plotly/datasets/master/laucnty16.csv')\n",
    "df_sample['State FIPS Code'] = df_sample['State FIPS Code'].apply(lambda x: str(x).zfill(2))\n",
    "df_sample['County FIPS Code'] = df_sample['County FIPS Code'].apply(lambda x: str(x).zfill(3))\n",
    "df_sample['FIPS'] = df_sample['State FIPS Code'] + df_sample['County FIPS Code']\n",
    "\n",
    "colorscale = [\"#f7fbff\",\"#ebf3fb\",\"#deebf7\",\"#d2e3f3\",\"#c6dbef\",\"#b3d2e9\",\"#9ecae1\",\n",
    "              \"#85bcdb\",\"#6baed6\",\"#57a0ce\",\"#4292c6\",\"#3082be\",\"#2171b5\",\"#1361a9\",\n",
    "              \"#08519c\",\"#0b4083\",\"#08306b\"]\n",
    "endpts = list(np.linspace(1, 12, len(colorscale) - 1))\n",
    "fips = df_sample['FIPS'].tolist()\n",
    "\n",
    "values = int(''.join((df_sample['Labor Force']).strip().split(','))).tolist()\n",
    "#values = df_sample[int('Labor Force'.strip().split(','))].tolist()\n",
    "fig = ff.create_choropleth(\n",
    "    fips=fips, values=values,\n",
    "    binning_endpoints=endpts,\n",
    "    colorscale=colorscale,\n",
    "    show_state_data=False,\n",
    "    show_hover=True, centroid_marker={'opacity': 0},\n",
    "    asp=2.9, title='USA by Unemployment %',\n",
    "    legend_title='% unemployed'\n",
    ")\n",
    "\n",
    "fig.layout.template = None\n",
    "fig.show()"
   ]
  },
  {
   "cell_type": "code",
   "execution_count": 50,
   "metadata": {},
   "outputs": [
    {
     "name": "stdout",
     "output_type": "stream",
     "text": [
      "['0', ' ', ' ', ' ', ' ', ' ', ' ', ' ', ' ', '2', '5', '6', '4', '9', ' ', ' ', ' ', ' ', ' ', '\\n', '1', ' ', ' ', ' ', ' ', ' ', ' ', ' ', ' ', '8', '9', '9', '3', '1', ' ', ' ', ' ', ' ', ' ', '\\n', '2', ' ', ' ', ' ', ' ', ' ', ' ', ' ', ' ', ' ', '8', '3', '0', '2', ' ', ' ', ' ', ' ', ' ', '\\n', '3', ' ', ' ', ' ', ' ', ' ', ' ', ' ', ' ', ' ', '8', '5', '7', '3', ' ', ' ', ' ', ' ', ' ', '\\n', '4', ' ', ' ', ' ', ' ', ' ', ' ', ' ', ' ', '2', '4', '5', '2', '5', ' ', ' ', ' ', ' ', ' ', '\\n', '5', ' ', ' ', ' ', ' ', ' ', ' ', ' ', ' ', ' ', '4', '8', '1', '1', ' ', ' ', ' ', ' ', ' ', '\\n', '6', ' ', ' ', ' ', ' ', ' ', ' ', ' ', ' ', ' ', '9', '1', '3', '2', ' ', ' ', ' ', ' ', ' ', '\\n', '7', ' ', ' ', ' ', ' ', ' ', ' ', ' ', ' ', '4', '5', '7', '9', '4', ' ', ' ', ' ', ' ', ' ', '\\n', '8', ' ', ' ', ' ', ' ', ' ', ' ', ' ', ' ', '1', '5', '1', '3', '4', ' ', ' ', ' ', ' ', ' ', '\\n', '9', ' ', ' ', ' ', ' ', ' ', ' ', ' ', ' ', '1', '1', '1', '6', '3', ' ', ' ', ' ', ' ', ' ', '\\n', '1', '0', ' ', ' ', ' ', ' ', ' ', ' ', ' ', '1', '9', '1', '5', '3', ' ', ' ', ' ', ' ', ' ', '\\n', '1', '1', ' ', ' ', ' ', ' ', ' ', ' ', ' ', ' ', '4', '3', '0', '0', ' ', ' ', ' ', ' ', ' ', '\\n', '1', '2', ' ', ' ', ' ', ' ', ' ', ' ', ' ', ' ', '8', '0', '1', '1', ' ', ' ', ' ', ' ', ' ', '\\n', '1', '3', ' ', ' ', ' ', ' ', ' ', ' ', ' ', ' ', '5', '5', '5', '8', ' ', ' ', ' ', ' ', ' ', '\\n', '1', '4', ' ', ' ', ' ', ' ', ' ', ' ', ' ', ' ', '5', '8', '3', '1', ' ', ' ', ' ', ' ', ' ', '\\n', '1', '5', ' ', ' ', ' ', ' ', ' ', ' ', ' ', '2', '0', '4', '0', '2', ' ', ' ', ' ', ' ', ' ', '\\n', '1', '6', ' ', ' ', ' ', ' ', ' ', ' ', ' ', '2', '3', '7', '0', '7', ' ', ' ', ' ', ' ', ' ', '\\n', '1', '7', ' ', ' ', ' ', ' ', ' ', ' ', ' ', ' ', '4', '5', '9', '3', ' ', ' ', ' ', ' ', ' ', '\\n', '1', '8', ' ', ' ', ' ', ' ', ' ', ' ', ' ', ' ', '4', '4', '4', '4', ' ', ' ', ' ', ' ', ' ', '\\n', '1', '9', ' ', ' ', ' ', ' ', ' ', ' ', ' ', '1', '5', '3', '9', '2', ' ', ' ', ' ', ' ', ' ', '\\n', '2', '0', ' ', ' ', ' ', ' ', ' ', ' ', ' ', ' ', '6', '4', '5', '1', ' ', ' ', ' ', ' ', ' ', '\\n', '2', '1', ' ', ' ', ' ', ' ', ' ', ' ', ' ', '3', '7', '7', '1', '5', ' ', ' ', ' ', ' ', ' ', '\\n', '2', '2', ' ', ' ', ' ', ' ', ' ', ' ', ' ', '2', '0', '0', '7', '8', ' ', ' ', ' ', ' ', ' ', '\\n', '2', '3', ' ', ' ', ' ', ' ', ' ', ' ', ' ', '1', '5', '5', '3', '0', ' ', ' ', ' ', ' ', ' ', '\\n', '2', '4', ' ', ' ', ' ', ' ', ' ', ' ', ' ', '2', '9', '0', '1', '6', ' ', ' ', ' ', ' ', ' ', '\\n', '2', '5', ' ', ' ', ' ', ' ', ' ', ' ', ' ', '3', '6', '7', '2', '6', ' ', ' ', ' ', ' ', ' ', '\\n', '2', '6', ' ', ' ', ' ', ' ', ' ', ' ', ' ', '1', '4', '6', '3', '3', ' ', ' ', ' ', ' ', ' ', '\\n', '2', '7', ' ', ' ', ' ', ' ', ' ', ' ', ' ', '4', '3', '8', '8', '7', ' ', ' ', ' ', ' ', ' ', '\\n', '2', '8', ' ', ' ', ' ', ' ', ' ', ' ', ' ', ' ', '6', '5', '4', '3', ' ', ' ', ' ', ' ', ' ', '\\n', '2', '9', ' ', ' ', ' ', ' ', ' ', ' ', ' ', '1', '3', '7', '2', '3', ' ', ' ', ' ', ' ', ' ', '\\n', ' ', ' ', ' ', ' ', ' ', ' ', ' ', ' ', ' ', ' ', ' ', ' ', '.', '.', '.', ' ', ' ', ' ', ' ', ' ', '\\n', '3', '1', '8', '9', ' ', ' ', ' ', ' ', ' ', ' ', '3', '0', '4', '5', ' ', ' ', ' ', ' ', ' ', '\\n', '3', '1', '9', '0', ' ', ' ', ' ', ' ', ' ', '2', '3', '3', '6', '7', ' ', ' ', ' ', ' ', ' ', '\\n', '3', '1', '9', '1', ' ', ' ', ' ', ' ', ' ', '1', '0', '7', '9', '4', ' ', ' ', ' ', ' ', ' ', '\\n', '3', '1', '9', '2', ' ', ' ', ' ', ' ', ' ', ' ', '8', '0', '7', '5', ' ', ' ', ' ', ' ', ' ', '\\n', '3', '1', '9', '3', ' ', ' ', ' ', ' ', ' ', ' ', '8', '0', '3', '5', ' ', ' ', ' ', ' ', ' ', '\\n', '3', '1', '9', '4', ' ', ' ', ' ', ' ', ' ', ' ', '7', '2', '5', '3', ' ', ' ', ' ', ' ', ' ', '\\n', '3', '1', '9', '5', ' ', ' ', ' ', ' ', ' ', ' ', '5', '2', '3', '0', ' ', ' ', ' ', ' ', ' ', '\\n', '3', '1', '9', '6', ' ', ' ', ' ', ' ', ' ', ' ', '4', '8', '8', '0', ' ', ' ', ' ', ' ', ' ', '\\n', '3', '1', '9', '7', ' ', ' ', ' ', ' ', ' ', ' ', '6', '1', '7', '0', ' ', ' ', ' ', ' ', ' ', '\\n', '3', '1', '9', '8', ' ', ' ', ' ', ' ', ' ', '4', '8', '1', '4', '5', ' ', ' ', ' ', ' ', ' ', '\\n', '3', '1', '9', '9', ' ', ' ', ' ', ' ', ' ', ' ', '6', '1', '0', '9', ' ', ' ', ' ', ' ', ' ', '\\n', '3', '2', '0', '0', ' ', ' ', ' ', ' ', ' ', ' ', '4', '6', '3', '5', ' ', ' ', ' ', ' ', ' ', '\\n', '3', '2', '0', '1', ' ', ' ', ' ', ' ', ' ', '1', '7', '0', '9', '2', ' ', ' ', ' ', ' ', ' ', '\\n', '3', '2', '0', '2', ' ', ' ', ' ', ' ', ' ', ' ', '6', '5', '0', '6', ' ', ' ', ' ', ' ', ' ', '\\n', '3', '2', '0', '3', ' ', ' ', ' ', ' ', ' ', ' ', '7', '6', '2', '3', ' ', ' ', ' ', ' ', ' ', '\\n', '3', '2', '0', '4', ' ', ' ', ' ', ' ', ' ', '1', '0', '4', '6', '4', ' ', ' ', ' ', ' ', ' ', '\\n', '3', '2', '0', '5', ' ', ' ', ' ', ' ', '1', '3', '6', '2', '5', '2', ' ', ' ', ' ', ' ', ' ', '\\n', '3', '2', '0', '6', ' ', ' ', ' ', ' ', ' ', '1', '1', '9', '1', '4', ' ', ' ', ' ', ' ', ' ', '\\n', '3', '2', '0', '7', ' ', ' ', ' ', ' ', ' ', '1', '0', '8', '1', '9', ' ', ' ', ' ', ' ', ' ', '\\n', '3', '2', '0', '8', ' ', ' ', ' ', ' ', ' ', ' ', '9', '9', '1', '2', ' ', ' ', ' ', ' ', ' ', '\\n', '3', '2', '0', '9', ' ', ' ', ' ', ' ', ' ', '2', '6', '3', '1', '9', ' ', ' ', ' ', ' ', ' ', '\\n', '3', '2', '1', '0', ' ', ' ', ' ', ' ', ' ', '2', '9', '9', '6', '4', ' ', ' ', ' ', ' ', ' ', '\\n', '3', '2', '1', '1', ' ', ' ', ' ', ' ', ' ', '2', '7', '2', '6', '3', ' ', ' ', ' ', ' ', ' ', '\\n', '3', '2', '1', '2', ' ', ' ', ' ', ' ', ' ', ' ', '6', '9', '6', '8', ' ', ' ', ' ', ' ', ' ', '\\n', '3', '2', '1', '3', ' ', ' ', ' ', ' ', ' ', ' ', '9', '8', '4', '1', ' ', ' ', ' ', ' ', ' ', '\\n', '3', '2', '1', '4', ' ', ' ', ' ', ' ', ' ', '1', '3', '8', '1', '2', ' ', ' ', ' ', ' ', ' ', '\\n', '3', '2', '1', '5', ' ', ' ', ' ', ' ', ' ', ' ', '3', '2', '8', '7', ' ', ' ', ' ', ' ', ' ', '\\n', '3', '2', '1', '6', ' ', ' ', ' ', ' ', ' ', ' ', '7', '8', '6', '0', ' ', ' ', ' ', ' ', ' ', '\\n', '3', '2', '1', '7', ' ', ' ', ' ', ' ', ' ', ' ', '9', '1', '3', '7', ' ', ' ', ' ', ' ', ' ', '\\n', '3', '2', '1', '8', ' ', ' ', ' ', ' ', ' ', '1', '0', '8', '1', '5', ' ', ' ', ' ', ' ', ' ', '\\n', 'N', 'a', 'm', 'e', ':', ' ', 'L', 'a', 'b', 'o', 'r', ' ', 'F', 'o', 'r', 'c', 'e', ' ', 'L', 'e', 'n', 'g', 't', 'h', ':', ' ', '3', '2', '1', '9', ' ', 'd', 't', 'y', 'p', 'e', ':', ' ', 'o', 'b', 'j', 'e', 'c', 't']\n",
      "0\n",
      " \n"
     ]
    },
    {
     "ename": "ValueError",
     "evalue": "invalid literal for int() with base 10: ' '",
     "output_type": "error",
     "traceback": [
      "\u001b[0;31m---------------------------------------------------------------------------\u001b[0m",
      "\u001b[0;31mValueError\u001b[0m                                Traceback (most recent call last)",
      "\u001b[0;32m<ipython-input-50-c2374fe3a734>\u001b[0m in \u001b[0;36m<module>\u001b[0;34m\u001b[0m\n\u001b[1;32m      4\u001b[0m \u001b[0;32mfor\u001b[0m \u001b[0mi\u001b[0m \u001b[0;32min\u001b[0m \u001b[0mx\u001b[0m\u001b[0;34m:\u001b[0m\u001b[0;34m\u001b[0m\u001b[0;34m\u001b[0m\u001b[0m\n\u001b[1;32m      5\u001b[0m     \u001b[0mprint\u001b[0m\u001b[0;34m(\u001b[0m\u001b[0mi\u001b[0m\u001b[0;34m)\u001b[0m\u001b[0;34m\u001b[0m\u001b[0;34m\u001b[0m\u001b[0m\n\u001b[0;32m----> 6\u001b[0;31m     \u001b[0mi\u001b[0m \u001b[0;34m=\u001b[0m \u001b[0mint\u001b[0m\u001b[0;34m(\u001b[0m\u001b[0mi\u001b[0m\u001b[0;34m)\u001b[0m\u001b[0;34m\u001b[0m\u001b[0;34m\u001b[0m\u001b[0m\n\u001b[0m",
      "\u001b[0;31mValueError\u001b[0m: invalid literal for int() with base 10: ' '"
     ]
    }
   ],
   "source": [
    "x = str(df_sample['Labor Force']).strip().replace(',','')\n",
    "\n",
    "print()\n",
    "for i in x: \n",
    "    print(i)\n",
    "    i = int(i)"
   ]
  },
  {
   "cell_type": "code",
   "execution_count": null,
   "metadata": {},
   "outputs": [],
   "source": []
  }
 ],
 "metadata": {
  "kernelspec": {
   "display_name": "Python 3",
   "language": "python",
   "name": "python3"
  },
  "language_info": {
   "codemirror_mode": {
    "name": "ipython",
    "version": 3
   },
   "file_extension": ".py",
   "mimetype": "text/x-python",
   "name": "python",
   "nbconvert_exporter": "python",
   "pygments_lexer": "ipython3",
   "version": "3.7.1"
  }
 },
 "nbformat": 4,
 "nbformat_minor": 2
}
