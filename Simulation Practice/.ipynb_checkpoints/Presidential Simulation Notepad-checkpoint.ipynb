{
 "cells": [
  {
   "cell_type": "code",
   "execution_count": 1,
   "metadata": {},
   "outputs": [],
   "source": [
    "import numpy as np\n",
    "import pandas as pd\n",
    "import random \n",
    "import math"
   ]
  },
  {
   "cell_type": "markdown",
   "metadata": {},
   "source": [
    "Testing Numpy arrays"
   ]
  },
  {
   "cell_type": "code",
   "execution_count": 2,
   "metadata": {},
   "outputs": [
    {
     "name": "stdout",
     "output_type": "stream",
     "text": [
      "[[1 4 9]\n",
      " [1 4 9]\n",
      " [1 4 9]]\n"
     ]
    }
   ],
   "source": [
    "A = np.array([[1,2,3], [1,2,3],[1,2,3]])\n",
    "B = np.array([[1,2,3], [1,2,3],[1,2,3]])\n",
    "C = A * B\n",
    "print(C)"
   ]
  },
  {
   "cell_type": "markdown",
   "metadata": {},
   "source": [
    "testing scalars"
   ]
  },
  {
   "cell_type": "code",
   "execution_count": null,
   "metadata": {},
   "outputs": [],
   "source": [
    "A = np.array([[1,2,3], [1,2,3],[1,2,3]])\n",
    "A = A * 2\n",
    "print(A)"
   ]
  },
  {
   "cell_type": "markdown",
   "metadata": {},
   "source": [
    "Testing weight style system, on alabama"
   ]
  },
  {
   "cell_type": "code",
   "execution_count": null,
   "metadata": {},
   "outputs": [],
   "source": [
    "Weight = np.array([.14, -.16]) #(Male, Female), [-.22, -.23, .04, 0.19]\n",
    "Population = np.array([.49, .51]) #(Male, Female), [.13, .22, .41, .23]\n",
    "print(Weight)\n",
    "Outcome = sum(Weight * Population)\n",
    "\n",
    "#print(Outcome)"
   ]
  },
  {
   "cell_type": "markdown",
   "metadata": {},
   "source": [
    "Dictonary Method"
   ]
  },
  {
   "cell_type": "code",
   "execution_count": null,
   "metadata": {},
   "outputs": [],
   "source": [
    "Weight = {} \n",
    "Weight['Age'] = [-.22, -.23, .04, 0.19]\n",
    "Weight['Gender'] = [.49, .51]\n",
    "Weight['Race']\n",
    "\n",
    "Pop = {}\n",
    "Pop['Age'] = [.13, .22, .41, .23]\n",
    "Pop['Gender'] = [.49, .51]\n",
    "\n",
    "\n",
    "Outcome = 0\n",
    "\n",
    "for key in Weight.keys():\n",
    "    \n",
    "    for i in range(len(Weight[key])):\n",
    "        Outcome += Pop[key][i] * Weight[key][i]\n",
    "        \n",
    "print(Outcome)\n",
    "    "
   ]
  },
  {
   "cell_type": "markdown",
   "metadata": {},
   "source": [
    "numpy"
   ]
  },
  {
   "cell_type": "code",
   "execution_count": null,
   "metadata": {},
   "outputs": [],
   "source": [
    "Weight = {} \n",
    "Weight['Age'] = np.array([-.22, -.23, .04, 0.19])\n",
    "Weight['Gender'] = np.array([.49, .51])\n",
    "\n",
    "Pop = {}\n",
    "Pop['Age'] = np.array([.13, .22, .41, .23])\n",
    "Pop['Gender'] = np.array([.49, .51])\n",
    "\n",
    "\n",
    "Outcome = 0\n",
    "\n",
    "for key in Weight.keys():\n",
    "    Outcome += sum(Pop[key] * Weight[key])\n",
    "        \n",
    "print(Outcome)"
   ]
  },
  {
   "cell_type": "markdown",
   "metadata": {},
   "source": [
    "trying to read in some data"
   ]
  },
  {
   "cell_type": "code",
   "execution_count": null,
   "metadata": {},
   "outputs": [],
   "source": [
    "file = open('exit_polls_data_cnn_04022017.csv', 'r')\n"
   ]
  },
  {
   "cell_type": "markdown",
   "metadata": {},
   "source": [
    "pandas attempt"
   ]
  },
  {
   "cell_type": "code",
   "execution_count": null,
   "metadata": {},
   "outputs": [],
   "source": [
    "df = pd.read_csv('exit_polls_data_cnn_04022017.csv')\n",
    "print(df)"
   ]
  },
  {
   "cell_type": "code",
   "execution_count": null,
   "metadata": {},
   "outputs": [],
   "source": [
    "print(df.loc[(df['questions'] == 'Gender') & (df['state'] == 'nation')])"
   ]
  },
  {
   "cell_type": "markdown",
   "metadata": {},
   "source": [
    "Converting pandas to dictonary of weights"
   ]
  },
  {
   "cell_type": "code",
   "execution_count": null,
   "metadata": {},
   "outputs": [],
   "source": [
    "pop = {}\n",
    "weight = {}\n",
    "questions = ['Gender', 'Age', 'Race', 'Education', 'Income', 'Party ID', 'Ideology', 'Marital status', 'Religion', 'How often do you attend religious services?', 'Union household?']\n",
    "for i in questions:\n",
    "    pop[i] = np.array(df.loc[(df['state'] == 'nation') & (df['questions'] == i)]['options_perc']/100)\n",
    "    weight[i] = np.array((df.loc[(df['state'] == 'nation') & (df['questions'] == i)]['Trump_perc']) - (df.loc[(df['state'] == 'nation') & (df['questions'] == i)]['Clinton_perc']))/100\n",
    "print(pop['Age'])\n",
    "print(weight['Age'])\n",
    "\n",
    " \n",
    "\n",
    "for key in weight.keys():\n",
    "    Outcome += sum(pop[key] * weight[key])\n",
    "print(Outcome)"
   ]
  },
  {
   "cell_type": "code",
   "execution_count": null,
   "metadata": {},
   "outputs": [],
   "source": []
  },
  {
   "cell_type": "code",
   "execution_count": null,
   "metadata": {},
   "outputs": [],
   "source": [
    "pop_virginia = {}\n",
    "for i in questions:\n",
    "    pop_virginia[i] = np.array(df.loc[(df['state'] == 'Arizona') & (df['questions'] == i)]['options_perc']/100)\n"
   ]
  },
  {
   "cell_type": "markdown",
   "metadata": {},
   "source": [
    "data cleaning function "
   ]
  },
  {
   "cell_type": "code",
   "execution_count": null,
   "metadata": {},
   "outputs": [],
   "source": [
    "def pop_weight(df, questions=['Gender', 'Age', 'Race', 'Education', 'Income', 'Party ID', 'Ideology', 'Marital status', 'Religion', 'How often do you attend religious services?', 'Union household?']): \n",
    "    pop = {}\n",
    "    df = df.fillna(0)\n",
    "    Outcome = 0\n",
    "    for i in questions:\n",
    "        pop[i] = np.array(df.loc[(df['state'] == 'nation') & (df['questions'] == i)]['options_perc']/100)\n",
    "        weight[i] = np.array((df.loc[(df['state'] == 'nation') & (df['questions'] == i)]['Trump_perc']) - (df.loc[(df['state'] == 'nation') & (df['questions'] == i)]['Clinton_perc']))/100\n",
    "    \n",
    "    print(sum(pop['Gender'] *  weight['Gender']))\n",
    "    print(sum(weight['Age'][0:4] * pop['Age'][0:4]))\n",
    "    \n",
    "    for key in weight.keys():\n",
    "        Outcome += sum(pop[key] * weight[key])\n",
    "    print(Outcome)\n",
    "\n",
    "    \n",
    "(pop_weight(df))"
   ]
  },
  {
   "cell_type": "markdown",
   "metadata": {},
   "source": [
    "promblem is that they all have like a 1.7% prefrence which just adds up over time. Going to try with just race"
   ]
  },
  {
   "cell_type": "code",
   "execution_count": null,
   "metadata": {},
   "outputs": [],
   "source": [
    "df = df.fillna(0)\n",
    "pop_virginia = np.array(df.loc[(df['state'] == 'Virginia') & (df['questions'] == 'Religion')]['options_perc']/100)\n",
    "weight = np.array((df.loc[(df['state'] == 'nation') & (df['questions'] == 'Religion')]['Trump_perc']) - (df.loc[(df['state'] == 'nation') & (df['questions'] == 'Religion')]['Clinton_perc']))/100\n",
    "\n",
    "print(weight)\n"
   ]
  },
  {
   "cell_type": "markdown",
   "metadata": {},
   "source": [
    "Idea: <br> \n",
    "\n",
    "Utah <br> \n",
    "\n",
    "<pre>\n",
    "<b>Population Weights</b><br>\n",
    "Race: (0.861, .02, ...) <br>\n",
    "Ethnicity: (0.78, 0.22) #Hispanic <br>\n",
    "Religion: (0.62, 0.12, ...) <br> \n",
    "Religious Attendence: (0.12, 0.22, 0.3, ...) <br> \n",
    "Gender: (0.56, 0.44) <br>\n",
    "LGBT+: (0.96, 0.04) <br>\n",
    "Education: (0.08, 0.12, 0.38, ...) <br>\n",
    "Income: (0.36, 0.12, 0.42, ...) <br> \n",
    "    \n",
    "    \n",
    "<b>Voting Weights</b><br>\n",
    "Race: (0.2, -.02, ...) <br>\n",
    "Ethnicity: (0.13, -0.22) #Hispanic <br>\n",
    "Religion: (0.56, -0.12, ...) <br> \n",
    "ect..\n",
    "</pre>\n",
    "\n",
    "\n",
    "1000 Agents per state\n",
    "\n",
    "86.1% are white, with 62% being mormon ect..."
   ]
  },
  {
   "cell_type": "code",
   "execution_count": null,
   "metadata": {},
   "outputs": [],
   "source": [
    "'''\n",
    "class Voter: \n",
    "    \n",
    "    def __init__(self):\n",
    "        pass\n",
    "    \n",
    "    def vote(self): \n",
    "        return race + religion + religosity + gender + queer + education + income + random_walk\n",
    "        \n",
    "class State: \n",
    "    \n",
    "    def __init__(self):\n",
    "        pass\n",
    "        \n",
    "    def demographics(self): \n",
    "        demographics = [voter1, voter2, ...]\n",
    "    \n",
    "    def vote(self): \n",
    "        return         \n",
    "'''       "
   ]
  },
  {
   "cell_type": "markdown",
   "metadata": {},
   "source": [
    "Voter Class"
   ]
  },
  {
   "cell_type": "code",
   "execution_count": 243,
   "metadata": {},
   "outputs": [],
   "source": [
    "class Voter: \n",
    "        \n",
    "    def __init__(self, into, walk=5):\n",
    "        self.into = into\n",
    "        self.walk = walk\n",
    "        \n",
    "    \n",
    "    def vote(self): \n",
    "        random_walk = random.randrange(self.walk*-1, self.walk, self.walk/5)/10\n",
    "        vote = 0 \n",
    "        for key in self.into.keys(): \n",
    "            vote += self.into[key]\n",
    "        return  np.sign(vote)\n",
    "\n"
   ]
  },
  {
   "cell_type": "markdown",
   "metadata": {},
   "source": [
    "State Class"
   ]
  },
  {
   "cell_type": "code",
   "execution_count": 177,
   "metadata": {},
   "outputs": [],
   "source": [
    "class State: \n",
    "    def __init__(self, demograpics, weights, char=['Race', 'Religion', \n",
    "                                'How often do you attend religious services?', 'Gender',\n",
    "                                'Are you gay, lesbian, bisexual or transgender?', 'Education', 'Income']):\n",
    "        self.demograpics = demograpics\n",
    "        self.voters = {'voters':[], 'vote':0}\n",
    "        self.weights = weights\n",
    "        self.characteristics = char\n",
    "        \n",
    "    def demographics(self): \n",
    "        for pop in range(1000):\n",
    "            into = {}\n",
    "            for char in  self.characteristics:\n",
    "                into[char] = float(np.random.choice(self.weights[char],1, self.demograpics[char]))\n",
    "            \n",
    "            person = Voter(into)\n",
    "            self.voters['voters'].append(person)\n",
    "            self.voters['vote'] += person.vote()\n",
    "                \n",
    "    \n",
    "    def vote(self): \n",
    "        return self.voters['vote']"
   ]
  },
  {
   "cell_type": "markdown",
   "metadata": {},
   "source": [
    "Trying to create Virginia"
   ]
  },
  {
   "cell_type": "code",
   "execution_count": 159,
   "metadata": {},
   "outputs": [
    {
     "data": {
      "text/plain": [
       "\"\\ndf = df.fillna(0)\\npop_virginia = np.array(df.loc[(df['state'] == 'Virginia') & (df['questions'] == 'Religion')]['options_perc']/100)\\nweight = np.array((df.loc[(df['state'] == 'nation') & (df['questions'] == 'Religion')]['Trump_perc']) - (df.loc[(df['state'] == 'nation') & (df['questions'] == 'Religion')]['Clinton_perc']))/100\\n\\nVirginia = State(pop_virginia, weight).demographics()\\n\\nprint(Virginia.vote())\\n\""
      ]
     },
     "execution_count": 159,
     "metadata": {},
     "output_type": "execute_result"
    }
   ],
   "source": [
    "'''\n",
    "df = df.fillna(0)\n",
    "pop_virginia = np.array(df.loc[(df['state'] == 'Virginia') & (df['questions'] == 'Religion')]['options_perc']/100)\n",
    "weight = np.array((df.loc[(df['state'] == 'nation') & (df['questions'] == 'Religion')]['Trump_perc']) - (df.loc[(df['state'] == 'nation') & (df['questions'] == 'Religion')]['Clinton_perc']))/100\n",
    "\n",
    "Virginia = State(pop_virginia, weight).demographics()\n",
    "\n",
    "print(Virginia.vote())\n",
    "'''\n",
    "\n",
    "\n",
    "\n"
   ]
  },
  {
   "cell_type": "markdown",
   "metadata": {},
   "source": [
    "Trying to come up with a method to find weights, and state demograhics"
   ]
  },
  {
   "cell_type": "code",
   "execution_count": 165,
   "metadata": {},
   "outputs": [
    {
     "name": "stdout",
     "output_type": "stream",
     "text": [
      "[0.71 0.12 0.11 0.04 0.03]\n",
      "[ 0.2  -0.81 -0.38 -0.38 -0.2 ]\n"
     ]
    }
   ],
   "source": [
    "df = pd.read_csv('exit_polls_data_cnn_04022017.csv') \n",
    "print(np.array(df.loc[(df['state'] == 'nation') & (df['questions'] == 'Race')]['options_perc']/100)[0:5])\n",
    "\n",
    "print((np.array((df.loc[(df['state'] == 'nation') & (df['questions'] == 'Race')]['Trump_perc'])\\\n",
    "         - (df.loc[(df['state'] == 'nation') & (df['questions'] == 'Race')]['Clinton_perc']))/100)[0:5])\n",
    "\n",
    "#print(df)"
   ]
  },
  {
   "cell_type": "markdown",
   "metadata": {},
   "source": [
    "National Weight Calculator"
   ]
  },
  {
   "cell_type": "code",
   "execution_count": 166,
   "metadata": {},
   "outputs": [
    {
     "name": "stdout",
     "output_type": "stream",
     "text": [
      "[0.05, 0.08, -0.05, -0.21]\n"
     ]
    }
   ],
   "source": [
    "National_Weights = {}\n",
    "df = pd.read_csv('exit_polls_data_cnn_04022017.csv') \n",
    "Characteristics = ['Race', 'Religion', \n",
    "                    'How often do you attend religious services?', 'Gender',\n",
    "                    'Are you gay, lesbian, bisexual or transgender?', 'Education', 'Income']\n",
    "\n",
    "for i in Characteristics:\n",
    "    National_Weights[i] = list(((df.loc[(df['state'] == 'nation') & (df['questions'] == i)]['Trump_perc'])\\\n",
    "    - (df.loc[(df['state'] == 'nation') & (df['questions'] == i)]['Clinton_perc']))/100)\n",
    "\n",
    "print(National_Weights['Education'])\n"
   ]
  },
  {
   "cell_type": "code",
   "execution_count": 167,
   "metadata": {},
   "outputs": [
    {
     "name": "stdout",
     "output_type": "stream",
     "text": [
      "[0.14, 0.31, 0.31, 0.24]\n"
     ]
    }
   ],
   "source": [
    "Virginia_Population = {}\n",
    "df = pd.read_csv('virginia_demogrphics.csv') \n",
    "Characteristics = ['Race', 'Religion', \n",
    "                    'How often do you attend religious services?', 'Gender',\n",
    "                    'Are you gay, lesbian, bisexual or transgender?', 'Education', 'Income']\n",
    "\n",
    "for i in Characteristics:\n",
    "    Virginia_Population[i] = list(df.loc[df['Question'] == i]['options_perc']/100)\n",
    "\n",
    "print(Virginia_Population['Education'])"
   ]
  },
  {
   "cell_type": "code",
   "execution_count": 220,
   "metadata": {},
   "outputs": [
    {
     "name": "stdout",
     "output_type": "stream",
     "text": [
      "-0.17278000000000002\n"
     ]
    }
   ],
   "source": [
    "x = 0 \n",
    "for key in Virginia_Population.keys():\n",
    "    x += sum(np.array(National_Weights[key]) * np.array(Virginia_Population[key]))\n",
    "print(x)"
   ]
  },
  {
   "cell_type": "markdown",
   "metadata": {},
   "source": [
    "Attempt 2 to calculate Virginia"
   ]
  },
  {
   "cell_type": "code",
   "execution_count": 303,
   "metadata": {},
   "outputs": [
    {
     "name": "stdout",
     "output_type": "stream",
     "text": [
      "-0.056\n"
     ]
    }
   ],
   "source": [
    "#x = np.random.choice(np.array([1, 3]), 1, [0.8, 0.2])\n",
    "#print(float(x))\n",
    "sample_var = ['Race','Religion', 'Education']\n",
    "Virginia = State(Virginia_Population, National_Weights,sample_var)\n",
    "\n",
    "Virginia.demographics()\n",
    "\n",
    "print(Virginia.vote()/1000)\n"
   ]
  },
  {
   "cell_type": "code",
   "execution_count": 296,
   "metadata": {},
   "outputs": [
    {
     "name": "stdout",
     "output_type": "stream",
     "text": [
      "[0.358, 0.258, 0.207, 0.177]\n"
     ]
    }
   ],
   "source": [
    "Maryland_Population = {}\n",
    "df = pd.read_csv('maryland_demogrphics.csv') \n",
    "Characteristics = ['Race', 'Religion', \n",
    "                    'How often do you attend religious services?', 'Gender',\n",
    "                    'Are you gay, lesbian, bisexual or transgender?', 'Education', 'Income']\n",
    "\n",
    "for i in Characteristics:\n",
    "    Maryland_Population[i] = list(df.loc[df['Question'] == i]['options_perc']/100)\n",
    "\n",
    "print(Maryland_Population['Education'])"
   ]
  },
  {
   "cell_type": "code",
   "execution_count": 321,
   "metadata": {},
   "outputs": [
    {
     "name": "stdout",
     "output_type": "stream",
     "text": [
      "-0.692\n"
     ]
    }
   ],
   "source": [
    "#x = np.random.choice(np.array([1, 3]), 1, [0.8, 0.2])\n",
    "#print(float(x))\n",
    "sample_var = ['Race','Religion', 'Education']\n",
    "Maryland = State(Maryland_Population, National_Weights,sample_var)\n",
    "\n",
    "Maryland.demographics()\n",
    "\n",
    "print(Maryland.vote()/1000)"
   ]
  },
  {
   "cell_type": "code",
   "execution_count": null,
   "metadata": {},
   "outputs": [],
   "source": [
    "print(0.86 * 1000)"
   ]
  },
  {
   "cell_type": "markdown",
   "metadata": {},
   "source": [
    "practice with np.random.choice()"
   ]
  },
  {
   "cell_type": "code",
   "execution_count": null,
   "metadata": {},
   "outputs": [],
   "source": [
    "x = np.random.choice(np.array([1,2,3,4,5]), p=[0.9, 0.1, 0, 0, 0])\n",
    "print(x)"
   ]
  },
  {
   "cell_type": "code",
   "execution_count": null,
   "metadata": {},
   "outputs": [],
   "source": [
    "for pop, char in range(100), ['a', 'b', 'c']: \n",
    "    print(pop)\n",
    "    print(char)\n",
    "    "
   ]
  },
  {
   "cell_type": "code",
   "execution_count": null,
   "metadata": {},
   "outputs": [],
   "source": []
  },
  {
   "cell_type": "code",
   "execution_count": null,
   "metadata": {},
   "outputs": [],
   "source": []
  },
  {
   "cell_type": "code",
   "execution_count": null,
   "metadata": {},
   "outputs": [],
   "source": []
  }
 ],
 "metadata": {
  "kernelspec": {
   "display_name": "Python 3",
   "language": "python",
   "name": "python3"
  },
  "language_info": {
   "codemirror_mode": {
    "name": "ipython",
    "version": 3
   },
   "file_extension": ".py",
   "mimetype": "text/x-python",
   "name": "python",
   "nbconvert_exporter": "python",
   "pygments_lexer": "ipython3",
   "version": "3.7.1"
  }
 },
 "nbformat": 4,
 "nbformat_minor": 2
}
